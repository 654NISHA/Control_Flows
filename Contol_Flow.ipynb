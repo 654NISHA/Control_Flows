{
 "cells": [
  {
   "cell_type": "markdown",
   "id": "d63ff5d4-5c16-4f00-ab2c-07a05738af71",
   "metadata": {},
   "source": [
    "### Basic If-Else Statements:\n",
    "---"
   ]
  },
  {
   "cell_type": "markdown",
   "id": "e57d58fd-67a6-4db6-99d1-0745276df413",
   "metadata": {},
   "source": [
    "### 1. Write a Python program to check if a given number is positive or negative."
   ]
  },
  {
   "cell_type": "code",
   "execution_count": 1,
   "id": "6170af60-0e36-42be-9c04-cf9903637278",
   "metadata": {},
   "outputs": [
    {
     "name": "stdin",
     "output_type": "stream",
     "text": [
      "Enter a number 24\n"
     ]
    },
    {
     "name": "stdout",
     "output_type": "stream",
     "text": [
      "24.0 is positive.\n"
     ]
    }
   ],
   "source": [
    "# Enter a number\n",
    "a=float(input(\"Enter a number\"))\n",
    "\n",
    "# Check if a given number is positive or negative.\n",
    "if (a==0):\n",
    "    print(f\"{a} is neither positive nor negative.\")\n",
    "if (a<0):\n",
    "    print(f\"{a} is negative.\")\n",
    "else:\n",
    "    print(f\"{a} is positive.\")   "
   ]
  },
  {
   "cell_type": "markdown",
   "id": "58e29d02-2837-448a-809e-f7c661ac6ffe",
   "metadata": {},
   "source": [
    "### 2. Create a program that determines if a person is eligible to vote based on their age."
   ]
  },
  {
   "cell_type": "code",
   "execution_count": 2,
   "id": "590b8e3c-f4f9-4270-bbb7-b3de88c0c66c",
   "metadata": {},
   "outputs": [
    {
     "name": "stdin",
     "output_type": "stream",
     "text": [
      "Enter an age 18\n"
     ]
    },
    {
     "name": "stdout",
     "output_type": "stream",
     "text": [
      "Person is eligible for vote.\n"
     ]
    }
   ],
   "source": [
    "# Enter age\n",
    "a=int(input(\"Enter an age\"))\n",
    "\n",
    "# determines if a person is eligible to vote based on their age.\n",
    "if (a<18):\n",
    "    print(\"Person is not eligible for vote.\")\n",
    "else:\n",
    "    print(\"Person is eligible for vote.\")"
   ]
  },
  {
   "cell_type": "markdown",
   "id": "655a781f-b0ca-44b5-985b-81fa0cc8e054",
   "metadata": {},
   "source": [
    "### 3. Develop a program to find the maximum of two numbers using if-else statements. "
   ]
  },
  {
   "cell_type": "code",
   "execution_count": 5,
   "id": "fe960bae-4f44-4e46-a2e0-8fddedf7a156",
   "metadata": {},
   "outputs": [
    {
     "name": "stdin",
     "output_type": "stream",
     "text": [
      "Enter a number 2\n",
      "Enter a number 5\n"
     ]
    },
    {
     "name": "stdout",
     "output_type": "stream",
     "text": [
      "5 is maximum.\n"
     ]
    }
   ],
   "source": [
    "# Enter two numbers\n",
    "a=int(input(\"Enter a number\"))\n",
    "b=int(input(\"Enter a number\"))\n",
    "\n",
    "# Find the maximum number\n",
    "if (a<b):\n",
    "    print(f\"{b} is maximum.\")\n",
    "else:\n",
    "    print(f\"{a} is maximum.\")"
   ]
  },
  {
   "cell_type": "markdown",
   "id": "746ecec1-928b-4af3-87a9-59b8a6952064",
   "metadata": {},
   "source": [
    "### 4. Write a Python script to classify a given year as a leap year or not."
   ]
  },
  {
   "cell_type": "code",
   "execution_count": 6,
   "id": "c359c535-0f59-42e4-9523-0f8501ab9e1b",
   "metadata": {},
   "outputs": [
    {
     "name": "stdin",
     "output_type": "stream",
     "text": [
      "Enter a year 2016\n"
     ]
    },
    {
     "name": "stdout",
     "output_type": "stream",
     "text": [
      "2016 is leap year.\n"
     ]
    }
   ],
   "source": [
    "# Enter a year\n",
    "a=int(input(\"Enter a year\"))\n",
    "\n",
    "# Check if the given year is leap year\n",
    "if (a%4==0):\n",
    "    print(f\"{a} is leap year.\")\n",
    "else:\n",
    "    print(f\"{a} is not leap year.\")"
   ]
  },
  {
   "cell_type": "markdown",
   "id": "41ebdd9c-084b-4ff5-89cd-468857a4c783",
   "metadata": {},
   "source": [
    "### 5. Create a program that checks whether a character is a vowel or a consonant."
   ]
  },
  {
   "cell_type": "code",
   "execution_count": 8,
   "id": "82573bb6-1a54-49a0-baaf-11989d6e9b3b",
   "metadata": {},
   "outputs": [
    {
     "name": "stdin",
     "output_type": "stream",
     "text": [
      "Enter a character: d\n"
     ]
    },
    {
     "name": "stdout",
     "output_type": "stream",
     "text": [
      "d is consonant.\n"
     ]
    }
   ],
   "source": [
    "# Enter a character\n",
    "a=str(input(\"Enter a character:\"))\n",
    "b=a.lower()\n",
    "\n",
    "# checks whether a character is a vowel or a consonant.\n",
    "if (b=='a'):\n",
    "    print(f\"{a} is vowel.\")\n",
    "elif (b=='e'):\n",
    "    print(f\"{a} is vowel.\")\n",
    "elif (b=='i'):\n",
    "    print(f\"{a} is vowel.\")\n",
    "elif (b=='o'):\n",
    "    print(f\"{a} is vowel.\")\n",
    "elif (b=='u'):\n",
    "    print(f\"{a} is vowel.\")\n",
    "else:\n",
    "    print(f\"{a} is consonant.\")"
   ]
  },
  {
   "cell_type": "markdown",
   "id": "75b0d194-e94e-4a63-8e03-f16ff14044fa",
   "metadata": {},
   "source": [
    "### 6. Implement a program to determine whether a given number is even or odd."
   ]
  },
  {
   "cell_type": "code",
   "execution_count": 9,
   "id": "6cff6de3-5c97-4c8e-9456-ff569ddab1a7",
   "metadata": {},
   "outputs": [
    {
     "name": "stdin",
     "output_type": "stream",
     "text": [
      "Enter a number 53\n"
     ]
    },
    {
     "name": "stdout",
     "output_type": "stream",
     "text": [
      "53.0 is an odd number.\n"
     ]
    }
   ],
   "source": [
    "# Enter a number\n",
    "a=float(input(\"Enter a number\"))\n",
    "\n",
    "# Check if the given number is even or odd\n",
    "if (a%2==0):\n",
    "    print(f\"{a} is an even number.\")\n",
    "else:\n",
    "    print(f\"{a} is an odd number.\")"
   ]
  },
  {
   "cell_type": "markdown",
   "id": "3417b617-ad86-43ae-8af0-36de63e2f850",
   "metadata": {},
   "source": [
    "### 7. Write a Python function to calculate the absolute value of a number without using the `abs()` function."
   ]
  },
  {
   "cell_type": "code",
   "execution_count": 10,
   "id": "b0cba252-8fd3-4432-8082-a209ea8b95f8",
   "metadata": {},
   "outputs": [
    {
     "name": "stdin",
     "output_type": "stream",
     "text": [
      "Enter a number -24\n"
     ]
    },
    {
     "name": "stdout",
     "output_type": "stream",
     "text": [
      "Absolute value of -24.0 is 24.0.\n"
     ]
    }
   ],
   "source": [
    "# Enter a number\n",
    "a=float(input(\"Enter a number\"))\n",
    "\n",
    "# Check if the given number is even or odd\n",
    "if (a==0):\n",
    "    print(f\"Absolute value of {a} is {a}.\")\n",
    "if (a<0):\n",
    "    print(f\"Absolute value of {a} is {-a}.\")\n",
    "else:\n",
    "    print(f\"Absolute value of {a} is {a}.\")"
   ]
  },
  {
   "cell_type": "markdown",
   "id": "e568ac33-ea5f-468b-9aa4-be5c28f96d31",
   "metadata": {},
   "source": [
    "###  8. Develop a program that determines the largest of three given numbers using if-else statements."
   ]
  },
  {
   "cell_type": "code",
   "execution_count": 11,
   "id": "d7a62013-52ac-44b9-8516-573624b3bf89",
   "metadata": {},
   "outputs": [
    {
     "name": "stdin",
     "output_type": "stream",
     "text": [
      "Enter a number 3\n",
      "Enter a number 6\n",
      "Enter a number 9\n"
     ]
    },
    {
     "name": "stdout",
     "output_type": "stream",
     "text": [
      "9 is maximum.\n"
     ]
    }
   ],
   "source": [
    "# Enter three numbers\n",
    "a=int(input(\"Enter a number\"))\n",
    "b=int(input(\"Enter a number\"))\n",
    "c=int(input(\"Enter a number\"))\n",
    "\n",
    "# Find the maximum number\n",
    "if (a>b and a>c):\n",
    "    print(f\"{a} is maximum.\")\n",
    "if (b>a and b>c):\n",
    "    print(f\"{b} is maximum.\")\n",
    "if (c>a and c>b):\n",
    "    print(f\"{c} is maximum.\")"
   ]
  },
  {
   "cell_type": "markdown",
   "id": "525c16c0-dc3d-4a6b-bd58-172594f8a893",
   "metadata": {},
   "source": [
    "### 9. Create a program that checks if a given string is a palindrome."
   ]
  },
  {
   "cell_type": "code",
   "execution_count": 15,
   "id": "80ebf569-e05e-411e-acff-ec55ac7ba77e",
   "metadata": {},
   "outputs": [
    {
     "name": "stdin",
     "output_type": "stream",
     "text": [
      "Enter a string: aba\n"
     ]
    },
    {
     "name": "stdout",
     "output_type": "stream",
     "text": [
      "Given string is palindrome.\n"
     ]
    }
   ],
   "source": [
    "# Enter a string\n",
    "a=str(input(\"Enter a string:\"))\n",
    "\n",
    "# checks if a given string is a palindrome.\n",
    "if (a==a[::-1]):\n",
    "    print(\"Given string is palindrome.\")\n",
    "else:\n",
    "    print(\"Given string is not palindrome.\")"
   ]
  },
  {
   "cell_type": "markdown",
   "id": "5b8d85a2-876a-410b-a410-2b47ae1a7696",
   "metadata": {},
   "source": [
    "### 10. Write a Python program to calculate the grade based on a student's score."
   ]
  },
  {
   "cell_type": "code",
   "execution_count": 2,
   "id": "a99add9b-b707-4f06-8278-49e95f237ba1",
   "metadata": {},
   "outputs": [
    {
     "name": "stdin",
     "output_type": "stream",
     "text": [
      "Enter student's score 24\n"
     ]
    },
    {
     "name": "stdout",
     "output_type": "stream",
     "text": [
      "Fail\n"
     ]
    }
   ],
   "source": [
    "# Enter student's score\n",
    "score=int(input(\"Enter student's score\"))\n",
    "\n",
    "#calculate the grade based on a student's score.\n",
    "if (score>=90):\n",
    "    print(\"A Grade\")\n",
    "if (70<=score<90):\n",
    "    print(\"B Grade\")\n",
    "if (50<=score<70):\n",
    "    print(\"C Grade\")\n",
    "if (30<=score<50):\n",
    "    print(\"D Grade\")\n",
    "if (score<30):\n",
    "    print(\"Fail\")"
   ]
  },
  {
   "cell_type": "markdown",
   "id": "a81bf866-ae6e-4998-a02f-0d64baa775a1",
   "metadata": {},
   "source": [
    "### Nested If-Else Statements:\n",
    "---"
   ]
  },
  {
   "cell_type": "markdown",
   "id": "fbf535b8-e907-48ef-9cbd-cc7785f61875",
   "metadata": {},
   "source": [
    "### 11. Write a program to find the largest among three numbers using nested if-else statements."
   ]
  },
  {
   "cell_type": "code",
   "execution_count": 4,
   "id": "561737f7-1343-4535-88a5-ed0da92235f9",
   "metadata": {},
   "outputs": [
    {
     "name": "stdin",
     "output_type": "stream",
     "text": [
      "Enter a number 2\n",
      "Enter a number 5\n",
      "Enter a number 9\n"
     ]
    },
    {
     "name": "stdout",
     "output_type": "stream",
     "text": [
      "9 is maximum.\n"
     ]
    }
   ],
   "source": [
    "# Enter three numbers\n",
    "a=int(input(\"Enter a number\"))\n",
    "b=int(input(\"Enter a number\"))\n",
    "c=int(input(\"Enter a number\"))\n",
    "\n",
    "# Find the maximum number\n",
    "if (a>b and a>c):\n",
    "    print(f\"{a} is maximum.\")\n",
    "else:\n",
    "    if (b>a and b>c):\n",
    "        print(f\"{b} is maximum.\")\n",
    "    else:\n",
    "        print(f\"{c} is maximum.\")"
   ]
  },
  {
   "cell_type": "markdown",
   "id": "9bea8a17-04eb-4aaa-8f8f-5254256f4ae8",
   "metadata": {},
   "source": [
    "### 12. Implement a program to determine if a triangle is equilateral, isosceles, or scalene."
   ]
  },
  {
   "cell_type": "code",
   "execution_count": 6,
   "id": "9cb480ae-6bcc-4b9c-9eaa-1b1369ad7d82",
   "metadata": {},
   "outputs": [
    {
     "name": "stdin",
     "output_type": "stream",
     "text": [
      "Enter a side of triangle 64\n",
      "Enter a side of triangle 69\n",
      "Enter a side of triangle 25\n"
     ]
    },
    {
     "name": "stdout",
     "output_type": "stream",
     "text": [
      "Scalene triangle\n"
     ]
    }
   ],
   "source": [
    "# Enter three sides of triangle\n",
    "a=int(input(\"Enter a side of triangle\"))\n",
    "b=int(input(\"Enter a side of triangle\"))\n",
    "c=int(input(\"Enter a side of triangle\"))\n",
    "\n",
    "# Check if a triangle is equilateral, isosceles, or scalene.\n",
    "if (a==b and a==c and b==c):\n",
    "    print(\"Equilateral triangle\")\n",
    "else:\n",
    "    if (a==b or b==c or a==c):\n",
    "        print(\"Isosceles triangle\")\n",
    "    else:\n",
    "        print(\"Scalene triangle\")"
   ]
  },
  {
   "cell_type": "markdown",
   "id": "35b7e340-0655-433a-9bbc-a52052d57a5d",
   "metadata": {},
   "source": [
    "### 13. Develop a program that checks if a year is a leap year and also if it is a century year."
   ]
  },
  {
   "cell_type": "code",
   "execution_count": 7,
   "id": "52d0317f-a0a4-425f-968c-523a97cb3db2",
   "metadata": {},
   "outputs": [
    {
     "name": "stdin",
     "output_type": "stream",
     "text": [
      "Enter a year 2016\n"
     ]
    },
    {
     "name": "stdout",
     "output_type": "stream",
     "text": [
      "2016 is leap year but not century year\n"
     ]
    }
   ],
   "source": [
    "# Enter a year\n",
    "a=int(input(\"Enter a year\"))\n",
    "\n",
    "# Check if the given year is leap year\n",
    "if (a%400==0):\n",
    "    print(f\"{a} is leap year and also century year.\")\n",
    "else:\n",
    "    if (a%100!=0 and a%4==0):\n",
    "        print(f\"{a} is leap year but not century year\")\n",
    "    else:\n",
    "        print(f\"{a} is neither leap year but century year\")"
   ]
  },
  {
   "cell_type": "markdown",
   "id": "c26069b2-e6be-43ef-a038-8cb8845c326b",
   "metadata": {},
   "source": [
    "### 14. Write a Python script to determine if a number is positive, negative, or zero."
   ]
  },
  {
   "cell_type": "code",
   "execution_count": 9,
   "id": "09b0aa07-70a4-4546-9dde-bc0901338a1d",
   "metadata": {},
   "outputs": [
    {
     "name": "stdin",
     "output_type": "stream",
     "text": [
      "Enter a number -29\n"
     ]
    },
    {
     "name": "stdout",
     "output_type": "stream",
     "text": [
      "-29 is negative.\n"
     ]
    }
   ],
   "source": [
    "# Enter a number\n",
    "a=int(input(\"Enter a number\"))\n",
    "\n",
    "# Check if a given number is positive or negative.\n",
    "if (a==0):\n",
    "    print(f\"{a} is zero\")\n",
    "else:\n",
    "    if (a<0):\n",
    "        print(f\"{a} is negative.\")\n",
    "    else:\n",
    "        print(f\"{a} is positive.\")   "
   ]
  },
  {
   "cell_type": "markdown",
   "id": "d73e0894-8714-43be-a620-9d060e194560",
   "metadata": {},
   "source": [
    "### 15. Create a program to check if a person is a teenager (between 13 and 19 years old)."
   ]
  },
  {
   "cell_type": "code",
   "execution_count": 10,
   "id": "0ecd7d5b-16ed-425c-82d1-8505f45dd8ad",
   "metadata": {},
   "outputs": [
    {
     "name": "stdin",
     "output_type": "stream",
     "text": [
      "Enter an age 12\n"
     ]
    },
    {
     "name": "stdout",
     "output_type": "stream",
     "text": [
      "Person is not teenager.\n"
     ]
    }
   ],
   "source": [
    "# Enter age\n",
    "a=int(input(\"Enter an age\"))\n",
    "\n",
    "# determines if a person is teenager\n",
    "if (13<=a<=19):\n",
    "    print(\"Person is teenager.\")\n",
    "else:\n",
    "    print(\"Person is not teenager.\")"
   ]
  },
  {
   "cell_type": "markdown",
   "id": "e81f60fc-cdfb-41de-aa83-93921b736240",
   "metadata": {},
   "source": [
    "### 16. Develop a program that determines the type of angle based on its measure (acute, obtuse, or right)."
   ]
  },
  {
   "cell_type": "code",
   "execution_count": 11,
   "id": "1893b3cb-deb1-48e6-ab27-e236856f3d3d",
   "metadata": {},
   "outputs": [
    {
     "name": "stdin",
     "output_type": "stream",
     "text": [
      "Enter an angle 34\n"
     ]
    },
    {
     "name": "stdout",
     "output_type": "stream",
     "text": [
      "Acute angle\n"
     ]
    }
   ],
   "source": [
    "# Enter angle\n",
    "a=int(input(\"Enter an angle\"))\n",
    "\n",
    "# measure acute,obtuse or right angle\n",
    "if (a==90):\n",
    "    print(\"Right angle\")\n",
    "else:\n",
    "    if (a<90):\n",
    "        print(\"Acute angle\")\n",
    "    else:\n",
    "        print(\"Obtuse angle\")"
   ]
  },
  {
   "cell_type": "markdown",
   "id": "deb6fdc2-cc58-4628-954e-642385ffcb19",
   "metadata": {},
   "source": [
    "### 17. Write a Python program to calculate the roots of a quadratic equation."
   ]
  },
  {
   "cell_type": "code",
   "execution_count": 17,
   "id": "90de176e-08a5-415f-aaa8-01406fb83404",
   "metadata": {},
   "outputs": [
    {
     "name": "stdin",
     "output_type": "stream",
     "text": [
      "Enter the coefficients of quadratic equation 1 2 1\n"
     ]
    },
    {
     "name": "stdout",
     "output_type": "stream",
     "text": [
      "Real and equal roots\n"
     ]
    }
   ],
   "source": [
    "# Enter the coefficients of quadratic equation\n",
    "a,b,c=[int(x) for x in input(\"Enter the coefficients of quadratic equation\").split()]\n",
    "\n",
    "# About roots of quadratic equation\n",
    "if (pow(b,2)-4*a*c==0):\n",
    "    print(\"Real and equal roots\")\n",
    "else:\n",
    "    if (pow(b,2)-4*a*c<0):\n",
    "        print(\"Imaginary roots\")\n",
    "    else:\n",
    "        print(\"Real and distinct roots\")"
   ]
  },
  {
   "cell_type": "markdown",
   "id": "4345a7bd-8dcd-4833-a352-6ff03197dc51",
   "metadata": {},
   "source": [
    "### 18. Implement a program to determine the day of the week based on a user-provided number (1 for Monday, 2 for Tuesday, etc.). "
   ]
  },
  {
   "cell_type": "code",
   "execution_count": 18,
   "id": "dde8a558-a87c-4fd0-a7fa-0c1f08ee2120",
   "metadata": {},
   "outputs": [
    {
     "name": "stdin",
     "output_type": "stream",
     "text": [
      "Enter a number 7\n"
     ]
    },
    {
     "name": "stdout",
     "output_type": "stream",
     "text": [
      "Sunday\n"
     ]
    }
   ],
   "source": [
    "# Enter a number\n",
    "a=int(input(\"Enter a number\"))\n",
    "\n",
    "# Determine the days\n",
    "if (0<a<=7):\n",
    "    if (a==1):\n",
    "        print(\"Monday\")\n",
    "    if (a==2):\n",
    "        print(\"Tuesday\")\n",
    "    if (a==3):\n",
    "        print(\"Wednesday\")\n",
    "    if (a==4):\n",
    "        print(\"Thusday\")\n",
    "    if (a==5):\n",
    "        print(\"Friday\")\n",
    "    if (a==6):\n",
    "        print(\"Saturday\")\n",
    "    if (a==7):\n",
    "        print(\"Sunday\")\n",
    "else:\n",
    "    print(\"Invalid number\")"
   ]
  },
  {
   "cell_type": "markdown",
   "id": "ff2e46cf-9f2a-42d6-a2f5-e4662e1a5bd3",
   "metadata": {},
   "source": [
    "### 19. Create a program that determines if a year is a leap year and also if it is evenly divisible by 400."
   ]
  },
  {
   "cell_type": "code",
   "execution_count": 19,
   "id": "b371b2f3-5a3d-4742-8c38-c819e712fa11",
   "metadata": {},
   "outputs": [
    {
     "name": "stdin",
     "output_type": "stream",
     "text": [
      "Enter a year 2020\n"
     ]
    },
    {
     "name": "stdout",
     "output_type": "stream",
     "text": [
      "2020 is leap year but not divisible by 400\n"
     ]
    }
   ],
   "source": [
    "# Enter a year\n",
    "a=int(input(\"Enter a year\"))\n",
    "\n",
    "# Check if the given year is leap year\n",
    "if (a%400==0):\n",
    "    print(f\"{a} is leap year and also divisible by 400\")\n",
    "else:\n",
    "    if (a%100!=0 and a%4==0):\n",
    "        print(f\"{a} is leap year but not divisible by 400\")\n",
    "    else:\n",
    "        print(f\"{a} is neither leap year nor divisible by 400\")"
   ]
  },
  {
   "cell_type": "markdown",
   "id": "9203fa4a-3fcc-46ed-9265-2d8f84c33cc7",
   "metadata": {},
   "source": [
    "### 20. Develop a program that checks if a given number is prime or not using nested if-else statements."
   ]
  },
  {
   "cell_type": "code",
   "execution_count": 22,
   "id": "32845eb0-3dbe-4abf-92bd-3878f7e39cd3",
   "metadata": {},
   "outputs": [
    {
     "name": "stdin",
     "output_type": "stream",
     "text": [
      "Enter a number 30\n"
     ]
    },
    {
     "name": "stdout",
     "output_type": "stream",
     "text": [
      "30 is not prime number\n"
     ]
    }
   ],
   "source": [
    "# Enter a number\n",
    "num=int(input(\"Enter a number\"))\n",
    "\n",
    "# check prime number\n",
    "t=0\n",
    "for i in range(2,num):\n",
    "    if (num%i==0):\n",
    "        break\n",
    "    else:\n",
    "        t+=1\n",
    "\n",
    "# Print the result\n",
    "if (t==0):\n",
    "    print(str(num)+\" is not prime number\")\n",
    "else:\n",
    "    print(str(num)+\" is prime number\")"
   ]
  },
  {
   "cell_type": "markdown",
   "id": "e4396da0-b70e-498c-94b3-129a84bd42af",
   "metadata": {},
   "source": [
    "### Elif Statements:\n",
    "---"
   ]
  },
  {
   "cell_type": "markdown",
   "id": "06e3bbb0-6d97-4b67-859a-a49e69da6ecc",
   "metadata": {},
   "source": [
    "### 21. Write a Python program to assign grades based on different ranges of scores using elif statements."
   ]
  },
  {
   "cell_type": "code",
   "execution_count": 24,
   "id": "2b7dfd9e-4c79-4079-a96a-13dca4e9b591",
   "metadata": {},
   "outputs": [
    {
     "name": "stdin",
     "output_type": "stream",
     "text": [
      "Enter student's score 20\n"
     ]
    },
    {
     "name": "stdout",
     "output_type": "stream",
     "text": [
      "Fail\n"
     ]
    }
   ],
   "source": [
    "# Enter student's score\n",
    "score=int(input(\"Enter student's score\"))\n",
    "\n",
    "#calculate the grade based on a student's score.\n",
    "if (score>=90):\n",
    "    print(\"A Grade\")\n",
    "elif (70<=score<90):\n",
    "    print(\"B Grade\")\n",
    "elif (50<=score<70):\n",
    "    print(\"C Grade\")\n",
    "elif (30<=score<50):\n",
    "    print(\"D Grade\")\n",
    "else:\n",
    "    print(\"Fail\")"
   ]
  },
  {
   "cell_type": "markdown",
   "id": "14e47767-e4ab-401c-bfd7-7d91b37d4e86",
   "metadata": {},
   "source": [
    "### 22. Implement a program to determine the type of a triangle based on its angles. "
   ]
  },
  {
   "cell_type": "code",
   "execution_count": 25,
   "id": "ec7fefee-d708-42ac-85b6-094ad997e8a3",
   "metadata": {},
   "outputs": [
    {
     "name": "stdin",
     "output_type": "stream",
     "text": [
      "Enter an angle 37\n"
     ]
    },
    {
     "name": "stdout",
     "output_type": "stream",
     "text": [
      "Acute angle triangle\n"
     ]
    }
   ],
   "source": [
    "# Enter angle\n",
    "a=int(input(\"Enter an angle\"))\n",
    "\n",
    "# measure acute,obtuse or right angle triangle\n",
    "if (a==90):\n",
    "    print(\"Right angle triangle\")\n",
    "elif (a<90):\n",
    "    print(\"Acute angle triangle\")\n",
    "else:\n",
    "    print(\"Obtuse angle triangle\")"
   ]
  },
  {
   "cell_type": "markdown",
   "id": "7e7aad94-ce06-46db-9b77-b5e902a0823c",
   "metadata": {},
   "source": [
    "### 23. Develop a program to categorize a given person's BMI into underweight, normal, overweight, or obese using elif statements."
   ]
  },
  {
   "cell_type": "code",
   "execution_count": 1,
   "id": "7230015a-435b-419c-8dbe-62581b597c5c",
   "metadata": {},
   "outputs": [
    {
     "name": "stdin",
     "output_type": "stream",
     "text": [
      "Enter BMI 18\n"
     ]
    },
    {
     "name": "stdout",
     "output_type": "stream",
     "text": [
      "You are underweight.\n"
     ]
    }
   ],
   "source": [
    "# Enter BMI\n",
    "bmi=float(input(\"Enter BMI\"))\n",
    "\n",
    "# Categorize person's BMI\n",
    "if bmi <= 18.5: \n",
    "    print(\"You are underweight.\") \n",
    "elif 18.5 < bmi <= 24.9: \n",
    "    print(\"Your weight is normal.\") \n",
    "elif 25 < bmi <= 29.29: \n",
    "    print(\"You are overweight.\") \n",
    "else: print(\"You are obese.\")"
   ]
  },
  {
   "cell_type": "markdown",
   "id": "11bb7f3e-b2ae-48a4-9671-b82e71e2e21f",
   "metadata": {},
   "source": [
    "### 24. Create a program that determines whether a given number is positive, negative, or zero using elif statements."
   ]
  },
  {
   "cell_type": "code",
   "execution_count": 2,
   "id": "9b2dd5ef-8e3e-43ed-84a8-8735194d4d72",
   "metadata": {},
   "outputs": [
    {
     "name": "stdin",
     "output_type": "stream",
     "text": [
      "Enter a number -48\n"
     ]
    },
    {
     "name": "stdout",
     "output_type": "stream",
     "text": [
      "-48 is negative.\n"
     ]
    }
   ],
   "source": [
    "# Enter a number\n",
    "a=int(input(\"Enter a number\"))\n",
    "\n",
    "# Check if a given number is positive, negative or zero\n",
    "if (a==0):\n",
    "    print(f\"{a} is zero\")\n",
    "elif (a<0):\n",
    "    print(f\"{a} is negative.\")\n",
    "else:\n",
    "    print(f\"{a} is positive.\")   "
   ]
  },
  {
   "cell_type": "markdown",
   "id": "693bd33a-5dd5-44c7-a386-ee0858054c31",
   "metadata": {},
   "source": [
    "### 25. Write a Python script to determine the type of a character (uppercase, lowercase, or special) using elif statements."
   ]
  },
  {
   "cell_type": "code",
   "execution_count": 3,
   "id": "c15e2770-ad1a-41e4-af29-c194e7e2501f",
   "metadata": {},
   "outputs": [
    {
     "name": "stdin",
     "output_type": "stream",
     "text": [
      "Enter a character. \\\n"
     ]
    },
    {
     "name": "stdout",
     "output_type": "stream",
     "text": [
      "\\ is special charater.\n"
     ]
    }
   ],
   "source": [
    "# Enter a character\n",
    "a=str(input(\"Enter a character.\"))\n",
    "\n",
    "# Determine the type of character\n",
    "if (a.isupper()):\n",
    "    print(f\"{a} is uppercase.\")\n",
    "elif (a.islower()):\n",
    "    print(f\"{a} is lowercase.\")\n",
    "else:\n",
    "    print(f\"{a} is special charater.\")"
   ]
  },
  {
   "cell_type": "markdown",
   "id": "33eeba56-4387-4ee3-84d3-c1bb1ae68c41",
   "metadata": {},
   "source": [
    "### 26. Implement a program to calculate the discounted price based on different purchase amounts using elif statements."
   ]
  },
  {
   "cell_type": "code",
   "execution_count": 4,
   "id": "4cfd9c6b-0a61-40ec-822b-5c6247139645",
   "metadata": {},
   "outputs": [
    {
     "name": "stdin",
     "output_type": "stream",
     "text": [
      "Enter purchase amount  638538\n"
     ]
    },
    {
     "name": "stdout",
     "output_type": "stream",
     "text": [
      "Discount Amount = 243415.20\n",
      "Net Bill Amount = 395122.80\n"
     ]
    }
   ],
   "source": [
    "# Enter purchase amount\n",
    "p=int(input('Enter purchase amount '))\n",
    "\n",
    "# conditional statements\n",
    "if p<=5000:\n",
    "    dis=0\n",
    "elif p>5000 and p<=10000:\n",
    "    dis=(p-5000)*(10/100.0)\n",
    "elif p>10000 and p<=20000:\n",
    "    dis=(p-10000)*(20/100.0)\n",
    "elif p>20000 and p<=30000:\n",
    "    dis=(p-20000)*(30/100.0)\n",
    "else:\n",
    "    dis=(p-30000)*(40/100.0)\n",
    "\n",
    "# Print result\n",
    "print('Discount Amount = {:.2f}'.format(dis))\n",
    "print('Net Bill Amount = {:.2f}'.format(p-dis))"
   ]
  },
  {
   "cell_type": "markdown",
   "id": "34f25c5a-cde1-4b4c-a80e-d12bfcc32423",
   "metadata": {},
   "source": [
    "### 27. Develop a program to calculate the electricity bill based on different consumption slabs using elif statements."
   ]
  },
  {
   "cell_type": "code",
   "execution_count": 6,
   "id": "5e463d28-0b1b-4bba-bdb5-acde66d90fd8",
   "metadata": {},
   "outputs": [
    {
     "name": "stdin",
     "output_type": "stream",
     "text": [
      "Enter units 150\n"
     ]
    },
    {
     "name": "stdout",
     "output_type": "stream",
     "text": [
      "Bill=Rs.1750\n"
     ]
    }
   ],
   "source": [
    "# Enter units\n",
    "units=int(input(\"Enter units\"))\n",
    "\n",
    "# Conditional statements\n",
    "print(\"Bill=Rs.\",end='')\n",
    "if (units <= 100):\n",
    "    print(units * 10)\n",
    "elif (units <= 200):\n",
    "    print((100 * 10) +(units - 100) * 15)\n",
    "elif (units <= 300):\n",
    "    print((100 * 10) +(100 * 15) +(units - 200) * 20)\n",
    "elif (units > 300):\n",
    "     print((100 * 10) +(100 * 15) +(100 * 20) +(units - 300) * 25)"
   ]
  },
  {
   "cell_type": "markdown",
   "id": "f6afee3c-dbc3-4cbc-b197-21449470f3b9",
   "metadata": {},
   "source": [
    "### 28. Create a program to determine the type of quadrilateral based on its angles and sides using elif statements."
   ]
  },
  {
   "cell_type": "code",
   "execution_count": 1,
   "id": "83fc354e-251a-43d7-8cd7-8f58a53a591d",
   "metadata": {},
   "outputs": [
    {
     "name": "stdout",
     "output_type": "stream",
     "text": [
      "The angles of the quadrilateral are A=150.26, B=29.74, C=157.38, and D=22.62 degrees.\n"
     ]
    }
   ],
   "source": [
    "import math\n",
    " \n",
    "# define the coordinates of the quadrilateral vertices\n",
    "AX = 0.0\n",
    "AY = 0.0\n",
    "BX = 1.0\n",
    "BY = 2.0\n",
    "CX = 4.0\n",
    "CY = 4.0\n",
    "DX = 2.0\n",
    "DY = 1.0\n",
    " \n",
    "# calculate the vectors AB, BC, and CD\n",
    "ab_x = BX - AX\n",
    "ab_y = BY - AY\n",
    "bc_x = CX - BX\n",
    "bc_y = CY - BY\n",
    "cd_x = DX - CX\n",
    "cd_y = DY - CY\n",
    " \n",
    "# calculate the dot products of vectors AB-BC and BC-CD\n",
    "dot_product_ab_bc = ab_x * bc_x + ab_y * bc_y\n",
    "dot_product_bc_cd = bc_x * cd_x + bc_y * cd_y\n",
    " \n",
    "# calculate the magnitudes of vectors AB, BC, and CD\n",
    "mag_ab = math.sqrt(ab_x * ab_x + ab_y * ab_y)\n",
    "mag_bc = math.sqrt(bc_x * bc_x + bc_y * bc_y)\n",
    "mag_cd = math.sqrt(cd_x * cd_x + cd_y * cd_y)\n",
    " \n",
    "# calculate the cosine of angles between vectors AB-BC and BC-CD using dot product formula\n",
    "cos_ab_bc = dot_product_ab_bc / (mag_ab * mag_bc)\n",
    "cos_bc_cd = dot_product_bc_cd / (mag_bc * mag_cd)\n",
    " \n",
    "# calculate the angles using inverse cosine function (arccos) and convert to degrees\n",
    "angle_a = math.acos(-cos_ab_bc) * 180 / math.pi\n",
    "angle_b = math.acos(cos_ab_bc) * 180 / math.pi\n",
    "angle_c = math.acos(cos_bc_cd) * 180 / math.pi\n",
    "angle_d = math.acos(-cos_bc_cd) * 180 / math.pi\n",
    " \n",
    "print(f\"The angles of the quadrilateral are A={angle_a:.2f}, B={angle_b:.2f}, C={angle_c:.2f}, and D={angle_d:.2f} degrees.\")"
   ]
  },
  {
   "cell_type": "markdown",
   "id": "4cf726da-f8e3-46c3-861c-9739dab9bc24",
   "metadata": {},
   "source": [
    "### 29. Write a Python script to determine the season based on a user-provided month using elif statements."
   ]
  },
  {
   "cell_type": "code",
   "execution_count": 1,
   "id": "a17c7529-ee5f-47bc-af41-d116577b3093",
   "metadata": {},
   "outputs": [
    {
     "name": "stdin",
     "output_type": "stream",
     "text": [
      "Enter the month: Jan\n"
     ]
    },
    {
     "name": "stdout",
     "output_type": "stream",
     "text": [
      "Winter\n"
     ]
    }
   ],
   "source": [
    "# Enter a month\n",
    "month=input(\"Enter the month:\")\n",
    "\n",
    "# Determine the season\n",
    "if month in ['Oct','Nov','Dec','Jan']:\n",
    "    print(\"Winter\")\n",
    "elif month in ['Feb','March','Aprill','May']:\n",
    "    print(\"Summer\")\n",
    "else:\n",
    "    print(\"Monsoon\")    "
   ]
  },
  {
   "cell_type": "markdown",
   "id": "7f809ce6-40f9-4591-92f1-d670c96660aa",
   "metadata": {},
   "source": [
    "### 30. Implement a program to determine the type of a year (leap or common) and month (30 or 31 days) using elif statements."
   ]
  },
  {
   "cell_type": "code",
   "execution_count": 2,
   "id": "9de4486c-8dc4-4610-baca-3bfd9c7b2e53",
   "metadata": {},
   "outputs": [
    {
     "name": "stdin",
     "output_type": "stream",
     "text": [
      "Enter a year 2016\n",
      "Enter a month 2\n"
     ]
    },
    {
     "name": "stdout",
     "output_type": "stream",
     "text": [
      "Number of days is 29\n"
     ]
    }
   ],
   "source": [
    "# Enter year and month\n",
    "year = int(input(\"Enter a year\"))\n",
    "month = int(input(\"Enter a month\"))\n",
    "\n",
    "# Determine types of year\n",
    "if(month == 1 or month == 3 or month == 5 or month == 7 or month == 8 or month == 10 or month == 12):\n",
    "\tprint(\"Number of days is 31\")\n",
    "elif((month == 2) and ((year%400==0) or (year%4==0 and year%100!=0))):\t\n",
    "\tprint(\"Number of days is 29\")\n",
    "elif(month == 2):\n",
    "\tprint(\" of days is 28\")\n",
    "else:\n",
    "\tprint(\"Number of days is 30\")"
   ]
  },
  {
   "cell_type": "markdown",
   "id": "5b61ee2b-222e-4b12-ba14-19465f428048",
   "metadata": {},
   "source": [
    "### Basic Level:\n",
    "---"
   ]
  },
  {
   "cell_type": "markdown",
   "id": "912cf532-a55d-4c95-a80e-93bdf90204ac",
   "metadata": {},
   "source": [
    "### 1. Write a Python program that checks if a given number is positive, negative, or zero."
   ]
  },
  {
   "cell_type": "code",
   "execution_count": 8,
   "id": "6458d2a9-9d28-4112-85e1-7bb6f5f68541",
   "metadata": {},
   "outputs": [
    {
     "name": "stdin",
     "output_type": "stream",
     "text": [
      "Enter a number 0\n"
     ]
    },
    {
     "name": "stdout",
     "output_type": "stream",
     "text": [
      "0 is zero\n"
     ]
    }
   ],
   "source": [
    "# Enter a number\n",
    "a=int(input(\"Enter a number\"))\n",
    "\n",
    "# Check if a given number is positive, negative or zero\n",
    "if (a==0):\n",
    "    print(f\"{a} is zero\")\n",
    "elif (a<0):\n",
    "    print(f\"{a} is negative.\")\n",
    "else:\n",
    "    print(f\"{a} is positive.\")  "
   ]
  },
  {
   "cell_type": "markdown",
   "id": "5cfc37ef-5b33-4640-bd55-e1b960df8a4a",
   "metadata": {},
   "source": [
    "### 2. Create a program to determine if a person is eligible to vote based on their age."
   ]
  },
  {
   "cell_type": "code",
   "execution_count": 3,
   "id": "e7f6bfa5-9220-4120-b625-4fbe127c54a3",
   "metadata": {},
   "outputs": [
    {
     "name": "stdin",
     "output_type": "stream",
     "text": [
      "Enter an age 46\n"
     ]
    },
    {
     "name": "stdout",
     "output_type": "stream",
     "text": [
      "Person is eligible for vote.\n"
     ]
    }
   ],
   "source": [
    "# Enter age\n",
    "a=int(input(\"Enter an age\"))\n",
    "\n",
    "# determines if a person is eligible to vote based on their age.\n",
    "if (a<18):\n",
    "    print(\"Person is not eligible for vote.\")\n",
    "else:\n",
    "    print(\"Person is eligible for vote.\")"
   ]
  },
  {
   "cell_type": "markdown",
   "id": "4493e997-b9da-47a8-8751-fd7ddcb602fc",
   "metadata": {},
   "source": [
    "### 3. Write a program to find the maximum of two given numbers using conditional statements"
   ]
  },
  {
   "cell_type": "code",
   "execution_count": 4,
   "id": "eab8e41e-e1a6-496b-b73c-69cc36aac77a",
   "metadata": {},
   "outputs": [
    {
     "name": "stdin",
     "output_type": "stream",
     "text": [
      "Enter a number 34\n",
      "Enter a number 47\n"
     ]
    },
    {
     "name": "stdout",
     "output_type": "stream",
     "text": [
      "47 is maximum.\n"
     ]
    }
   ],
   "source": [
    "# Enter two numbers\n",
    "a=int(input(\"Enter a number\"))\n",
    "b=int(input(\"Enter a number\"))\n",
    "\n",
    "# Find the maximum number\n",
    "if (a<b):\n",
    "    print(f\"{b} is maximum.\")\n",
    "else:\n",
    "    print(f\"{a} is maximum.\")"
   ]
  },
  {
   "cell_type": "markdown",
   "id": "01a7715e-13a2-466b-91e8-47cf6af92677",
   "metadata": {},
   "source": [
    "### 4. Develop a program that calculates the grade of a student based on their exam score."
   ]
  },
  {
   "cell_type": "code",
   "execution_count": 5,
   "id": "ce147391-e318-484f-afd4-fd0f8e5cc78a",
   "metadata": {},
   "outputs": [
    {
     "name": "stdin",
     "output_type": "stream",
     "text": [
      "Enter student's score 47\n"
     ]
    },
    {
     "name": "stdout",
     "output_type": "stream",
     "text": [
      "D Grade\n"
     ]
    }
   ],
   "source": [
    "# Enter student's score\n",
    "score=int(input(\"Enter student's score\"))\n",
    "\n",
    "#calculate the grade based on a student's score.\n",
    "if (score>=90):\n",
    "    print(\"A Grade\")\n",
    "if (70<=score<90):\n",
    "    print(\"B Grade\")\n",
    "if (50<=score<70):\n",
    "    print(\"C Grade\")\n",
    "if (30<=score<50):\n",
    "    print(\"D Grade\")\n",
    "if (score<30):\n",
    "    print(\"Fail\")"
   ]
  },
  {
   "cell_type": "markdown",
   "id": "a1dce451-1b28-4bf7-b262-800af41c4ee5",
   "metadata": {},
   "source": [
    "### 5. Create a program that checks if a year is a leap year or not."
   ]
  },
  {
   "cell_type": "code",
   "execution_count": 6,
   "id": "41f6cb6c-594b-4d91-bcd3-d598d86c5221",
   "metadata": {},
   "outputs": [
    {
     "name": "stdin",
     "output_type": "stream",
     "text": [
      "Enter a year 2020\n"
     ]
    },
    {
     "name": "stdout",
     "output_type": "stream",
     "text": [
      "2020 is leap year.\n"
     ]
    }
   ],
   "source": [
    "# Enter a year\n",
    "a=int(input(\"Enter a year\"))\n",
    "\n",
    "# Check if the given year is leap year\n",
    "if (a%4==0):\n",
    "    print(f\"{a} is leap year.\")\n",
    "else:\n",
    "    print(f\"{a} is not leap year.\")"
   ]
  },
  {
   "cell_type": "markdown",
   "id": "fe7b5242-1668-43a4-99b7-20ae7b79c319",
   "metadata": {},
   "source": [
    "### 6. Write a program to classify a triangle based on its sides' lengths."
   ]
  },
  {
   "cell_type": "code",
   "execution_count": 7,
   "id": "6e9ed312-23df-4146-9c29-4d574a7a68f3",
   "metadata": {},
   "outputs": [
    {
     "name": "stdin",
     "output_type": "stream",
     "text": [
      "Enter a side of triangle 4\n",
      "Enter a side of triangle 2\n",
      "Enter a side of triangle 2\n"
     ]
    },
    {
     "name": "stdout",
     "output_type": "stream",
     "text": [
      "Isosceles triangle\n"
     ]
    }
   ],
   "source": [
    "# Enter three sides of triangle\n",
    "a=int(input(\"Enter a side of triangle\"))\n",
    "b=int(input(\"Enter a side of triangle\"))\n",
    "c=int(input(\"Enter a side of triangle\"))\n",
    "\n",
    "# Check if a triangle is equilateral, isosceles, or scalene.\n",
    "if (a==b and a==c and b==c):\n",
    "    print(\"Equilateral triangle\")\n",
    "else:\n",
    "    if (a==b or b==c or a==c):\n",
    "        print(\"Isosceles triangle\")\n",
    "    else:\n",
    "        print(\"Scalene triangle\")"
   ]
  },
  {
   "cell_type": "markdown",
   "id": "71fb2da4-574d-4b7b-915b-11992b096973",
   "metadata": {},
   "source": [
    "### 7.Build a program that determines the largest of three given numbers"
   ]
  },
  {
   "cell_type": "code",
   "execution_count": 12,
   "id": "25505478-f223-4d06-a227-64cdb07a4d64",
   "metadata": {},
   "outputs": [
    {
     "name": "stdin",
     "output_type": "stream",
     "text": [
      "Enter a number 6 9 2\n"
     ]
    },
    {
     "name": "stdout",
     "output_type": "stream",
     "text": [
      "9 is maximum.\n"
     ]
    }
   ],
   "source": [
    "# Enter three numbers\n",
    "a,b,c=list(int(x) for x in input(\"Enter a number\").split(' '))\n",
    "\n",
    "# Find the maximum number\n",
    "if (a>b and a>c):\n",
    "    print(f\"{a} is maximum.\")\n",
    "if (b>a and b>c):\n",
    "    print(f\"{b} is maximum.\")\n",
    "if (c>a and c>b):\n",
    "    print(f\"{c} is maximum.\")"
   ]
  },
  {
   "cell_type": "markdown",
   "id": "7138a820-189d-4d19-ba19-f0c6cebe4891",
   "metadata": {},
   "source": [
    "### 8. Develop a program that checks whether a character is a vowel or a consonant."
   ]
  },
  {
   "cell_type": "code",
   "execution_count": 13,
   "id": "476740ff-0291-40c7-be91-f7750fcfe7c8",
   "metadata": {},
   "outputs": [
    {
     "name": "stdin",
     "output_type": "stream",
     "text": [
      "Enter a character: A\n"
     ]
    },
    {
     "name": "stdout",
     "output_type": "stream",
     "text": [
      "A is vowel.\n"
     ]
    }
   ],
   "source": [
    "# Enter a character\n",
    "a=str(input(\"Enter a character:\"))\n",
    "b=a.lower()\n",
    "\n",
    "# checks whether a character is a vowel or a consonant.\n",
    "if (b=='a'):\n",
    "    print(f\"{a} is vowel.\")\n",
    "elif (b=='e'):\n",
    "    print(f\"{a} is vowel.\")\n",
    "elif (b=='i'):\n",
    "    print(f\"{a} is vowel.\")\n",
    "elif (b=='o'):\n",
    "    print(f\"{a} is vowel.\")\n",
    "elif (b=='u'):\n",
    "    print(f\"{a} is vowel.\")\n",
    "else:\n",
    "    print(f\"{a} is consonant.\")"
   ]
  },
  {
   "cell_type": "markdown",
   "id": "e6615e76-4f15-4eb1-94db-9b84eb7d5664",
   "metadata": {},
   "source": [
    "### 9. Create a program to calculate the total cost of a shopping cart based on discounts."
   ]
  },
  {
   "cell_type": "code",
   "execution_count": 14,
   "id": "8061322b-ba27-4c2d-90bc-32def198fb5e",
   "metadata": {},
   "outputs": [
    {
     "name": "stdin",
     "output_type": "stream",
     "text": [
      "Enter purchase amount  48783\n"
     ]
    },
    {
     "name": "stdout",
     "output_type": "stream",
     "text": [
      "Discount Amount = 7513.20\n",
      "Net Bill Amount = 41269.80\n"
     ]
    }
   ],
   "source": [
    "# Enter purchase amount\n",
    "p=int(input('Enter purchase amount '))\n",
    "\n",
    "# conditional statements\n",
    "if p<=5000:\n",
    "    dis=0\n",
    "elif p>5000 and p<=10000:\n",
    "    dis=(p-5000)*(10/100.0)\n",
    "elif p>10000 and p<=20000:\n",
    "    dis=(p-10000)*(20/100.0)\n",
    "elif p>20000 and p<=30000:\n",
    "    dis=(p-20000)*(30/100.0)\n",
    "else:\n",
    "    dis=(p-30000)*(40/100.0)\n",
    "\n",
    "# Print result\n",
    "print('Discount Amount = {:.2f}'.format(dis))\n",
    "print('Net Bill Amount = {:.2f}'.format(p-dis))"
   ]
  },
  {
   "cell_type": "markdown",
   "id": "9199317c-3f2a-48d9-baab-cbbdab1e622d",
   "metadata": {},
   "source": [
    "### 10. Write a program that checks if a given number is even or odd."
   ]
  },
  {
   "cell_type": "code",
   "execution_count": 15,
   "id": "f9cc9dbf-944d-4a4d-8e5a-9025e48baa7a",
   "metadata": {},
   "outputs": [
    {
     "name": "stdin",
     "output_type": "stream",
     "text": [
      "Enter a number -24\n"
     ]
    },
    {
     "name": "stdout",
     "output_type": "stream",
     "text": [
      "-24.0 is an even number.\n"
     ]
    }
   ],
   "source": [
    "# Enter a number\n",
    "a=float(input(\"Enter a number\"))\n",
    "\n",
    "# Check if the given number is even or odd\n",
    "if (a%2==0):\n",
    "    print(f\"{a} is an even number.\")\n",
    "else:\n",
    "    print(f\"{a} is an odd number.\")"
   ]
  },
  {
   "cell_type": "markdown",
   "id": "cf730e73-a055-4f40-b7e8-280fd8692ca7",
   "metadata": {},
   "source": [
    "### Intermediate Level:\n",
    "---"
   ]
  },
  {
   "cell_type": "markdown",
   "id": "e0ba7a8d-c6d0-4a44-822a-65723223fb3f",
   "metadata": {},
   "source": [
    "### 11. Write a program that calculates the roots of a quadratic equation ."
   ]
  },
  {
   "cell_type": "code",
   "execution_count": 16,
   "id": "57f8f4bd-3e26-4bf0-a994-e61404bb44a3",
   "metadata": {},
   "outputs": [
    {
     "name": "stdin",
     "output_type": "stream",
     "text": [
      "Enter the coefficients of quadratic equation 1 2 1\n"
     ]
    },
    {
     "name": "stdout",
     "output_type": "stream",
     "text": [
      "Real and equal roots\n",
      "Roots: -1.0 and -1.0\n"
     ]
    }
   ],
   "source": [
    "# Enter the coefficients of quadratic equation\n",
    "a,b,c=[int(x) for x in input(\"Enter the coefficients of quadratic equation\").split()]\n",
    "\n",
    "# About roots of quadratic equation\n",
    "if (pow(b,2)-4*a*c==0):\n",
    "    print(\"Real and equal roots\")\n",
    "else:\n",
    "    if (pow(b,2)-4*a*c<0):\n",
    "        print(\"Imaginary roots\")\n",
    "    else:\n",
    "        print(\"Real and distinct roots\")\n",
    "D=pow(b,2)-4*a*c\n",
    "print(\"Roots:\",(-b+pow(D,0.5))/(2*a),\"and\",(-b-pow(D,0.5))/(2*a))"
   ]
  },
  {
   "cell_type": "markdown",
   "id": "ade19a0a-39b1-4af0-9e05-37ca4442579a",
   "metadata": {},
   "source": [
    "### 12. Create a program that determines the day of the week based on the day number (1-7)."
   ]
  },
  {
   "cell_type": "code",
   "execution_count": 17,
   "id": "5b9b80e6-7a1c-4fdf-9404-d9be315056d2",
   "metadata": {},
   "outputs": [
    {
     "name": "stdin",
     "output_type": "stream",
     "text": [
      "Enter a number 6\n"
     ]
    },
    {
     "name": "stdout",
     "output_type": "stream",
     "text": [
      "Saturday\n"
     ]
    }
   ],
   "source": [
    "# Enter a number\n",
    "a=int(input(\"Enter a number\"))\n",
    "\n",
    "# Determine the days\n",
    "if (0<a<=7):\n",
    "    if (a==1):\n",
    "        print(\"Monday\")\n",
    "    if (a==2):\n",
    "        print(\"Tuesday\")\n",
    "    if (a==3):\n",
    "        print(\"Wednesday\")\n",
    "    if (a==4):\n",
    "        print(\"Thusday\")\n",
    "    if (a==5):\n",
    "        print(\"Friday\")\n",
    "    if (a==6):\n",
    "        print(\"Saturday\")\n",
    "    if (a==7):\n",
    "        print(\"Sunday\")\n",
    "else:\n",
    "    print(\"Invalid number\")"
   ]
  },
  {
   "cell_type": "markdown",
   "id": "c8e606ec-cbc4-4e9b-bab8-2898fe55ca71",
   "metadata": {},
   "source": [
    "### 13. Develop a program that calculates the factorial of a given number using recursion"
   ]
  },
  {
   "cell_type": "code",
   "execution_count": 1,
   "id": "9206f461-e448-4d64-8094-87e5db3b568f",
   "metadata": {},
   "outputs": [
    {
     "name": "stdin",
     "output_type": "stream",
     "text": [
      "Enter a number 10\n"
     ]
    },
    {
     "name": "stdout",
     "output_type": "stream",
     "text": [
      "Factorial of 10 is 3628800\n"
     ]
    }
   ],
   "source": [
    "# Enter a number\n",
    "num=int(input(\"Enter a number\"))\n",
    "\n",
    "# calculates the factorial of a number\n",
    "if (num==0):\n",
    "    print(f\"Factorial of {num} is\",str(1))\n",
    "else:\n",
    "    fact=1\n",
    "    for i in range(2,num+1):\n",
    "        fact*=i\n",
    "    print(f\"Factorial of {num} is\",fact)"
   ]
  },
  {
   "cell_type": "markdown",
   "id": "72a243a2-63b6-430f-9cb0-be3ccbc5c3a4",
   "metadata": {},
   "source": [
    "### 14. Write a program to find the largest among three numbers without using the `max()` function."
   ]
  },
  {
   "cell_type": "code",
   "execution_count": 3,
   "id": "d76989ce-e4bb-4cf2-9871-a893c38bd82a",
   "metadata": {},
   "outputs": [
    {
     "name": "stdin",
     "output_type": "stream",
     "text": [
      "Enter a number 65 48 25\n"
     ]
    },
    {
     "name": "stdout",
     "output_type": "stream",
     "text": [
      "65 is maximum.\n"
     ]
    }
   ],
   "source": [
    "# Enter three numbers\n",
    "a,b,c=list(int(x) for x in input(\"Enter a number\").split(' '))\n",
    "\n",
    "# Find the maximum number\n",
    "if (a>b and a>c):\n",
    "    print(f\"{a} is maximum.\")\n",
    "if (b>a and b>c):\n",
    "    print(f\"{b} is maximum.\")\n",
    "if (c>a and c>b):\n",
    "    print(f\"{c} is maximum.\")"
   ]
  },
  {
   "cell_type": "markdown",
   "id": "8328e3cf-2c18-4c97-896d-b46f22a2fad2",
   "metadata": {},
   "source": [
    "### 15. Create a program that simulates a basic ATM transaction menu."
   ]
  },
  {
   "cell_type": "code",
   "execution_count": 8,
   "id": "63858f7e-4b4c-4907-9705-236cad6dbde9",
   "metadata": {},
   "outputs": [
    {
     "name": "stdin",
     "output_type": "stream",
     "text": [
      "Enter account number 987654\n",
      "Enter amount withdraw 500\n",
      "Enter pin 123\n"
     ]
    },
    {
     "name": "stdout",
     "output_type": "stream",
     "text": [
      "Your balance amount: 9500\n"
     ]
    }
   ],
   "source": [
    "# take user's account number and password\n",
    "user_account=\"987654\"\n",
    "user_pin=\"123\"\n",
    "balance=10000\n",
    "\n",
    "if user_account==input(\"Enter account number\"):\n",
    "    amount=int(input(\"Enter amount withdraw\"))\n",
    "    if (amount<=balance):\n",
    "        if user_pin==input(\"Enter pin\"):\n",
    "            balance-=amount\n",
    "            print(\"Your balance amount:\",balance)\n",
    "        else:\n",
    "            print(\"Invalid pin\")\n",
    "    else:\n",
    "        print(\"Not enough balance\")\n",
    "else:\n",
    "    print(\"Account number is invalid\")"
   ]
  },
  {
   "cell_type": "markdown",
   "id": "1ac58344-896e-4848-a288-ed49bd3bb910",
   "metadata": {},
   "source": [
    "### 16. Build a program that checks if a given string is a palindrome or not"
   ]
  },
  {
   "cell_type": "code",
   "execution_count": 4,
   "id": "dae79c9a-1915-4144-90ca-dccc7f892168",
   "metadata": {},
   "outputs": [
    {
     "name": "stdin",
     "output_type": "stream",
     "text": [
      "Enter a string: Hello! World\n"
     ]
    },
    {
     "name": "stdout",
     "output_type": "stream",
     "text": [
      "Given string is not palindrome.\n"
     ]
    }
   ],
   "source": [
    "# Enter string\n",
    "string=str(input(\"Enter a string:\"))\n",
    "\n",
    "# Check palindrome\n",
    "if (string==string[::-1]):\n",
    "    print(\"Given string is palindrome.\")\n",
    "else:\n",
    "    print(\"Given string is not palindrome.\")"
   ]
  },
  {
   "cell_type": "markdown",
   "id": "5e339f9b-d1f9-463d-8bfb-3fbe16de535e",
   "metadata": {},
   "source": [
    "### 17. Write a program that calculates the average of a list of numbers, excluding the smallest and largest values."
   ]
  },
  {
   "cell_type": "code",
   "execution_count": 5,
   "id": "3ab5f5f8-8559-4dc7-b42e-ee26ef27caeb",
   "metadata": {},
   "outputs": [
    {
     "name": "stdout",
     "output_type": "stream",
     "text": [
      "Given list [1, 2, 3, 4, 5, 6, 7, 8, 9, 10]\n",
      "Average of list of numbers 5.5\n"
     ]
    }
   ],
   "source": [
    "# take list\n",
    "a=list(range(1,11))\n",
    "print(\"Given list\",a)\n",
    "\n",
    "# remove maximum and minimum element from list\n",
    "a.remove(max(a))\n",
    "a.remove(min(a))\n",
    "\n",
    "# find average of a list of numbers excluding the smallest and largest number\n",
    "count=0\n",
    "for i in a:\n",
    "    count+=i\n",
    "print(\"Average of list of numbers\",count/len(a))\n",
    "    "
   ]
  },
  {
   "cell_type": "markdown",
   "id": "65d58e41-ee28-4cd4-883b-168836bda663",
   "metadata": {},
   "source": [
    "### 18. Develop a program that converts a given temperature from Celsius to Fahrenheit."
   ]
  },
  {
   "cell_type": "code",
   "execution_count": 6,
   "id": "84e33ceb-851f-4cca-ace6-c21c9f3d9c6f",
   "metadata": {},
   "outputs": [
    {
     "name": "stdin",
     "output_type": "stream",
     "text": [
      "Enter the temperature in Celsius 32\n"
     ]
    },
    {
     "name": "stdout",
     "output_type": "stream",
     "text": [
      "The temperature in Fahrenheit is  89.6\n"
     ]
    }
   ],
   "source": [
    "C=float(input(\"Enter the temperature in Celsius\"))\n",
    "F=(C*(9/5))+32\n",
    "print(\"The temperature in Fahrenheit is \",F)"
   ]
  },
  {
   "cell_type": "markdown",
   "id": "d1d8005a-399d-467f-84a5-24954f15dced",
   "metadata": {},
   "source": [
    "### 19. Create a program that simulates a basic calculator for addition, subtraction, multiplication, and division."
   ]
  },
  {
   "cell_type": "code",
   "execution_count": 1,
   "id": "dbd530e5-b80e-4bdf-a4f5-6843f799d543",
   "metadata": {},
   "outputs": [
    {
     "name": "stdin",
     "output_type": "stream",
     "text": [
      "Enter two numbers 76 63\n",
      "Enter which option you want to operate multiplication\n"
     ]
    },
    {
     "name": "stdout",
     "output_type": "stream",
     "text": [
      "Multiplication: 4788.0\n"
     ]
    }
   ],
   "source": [
    "# Enter two numbers\n",
    "a,b=[float(x) for x in input(\"Enter two numbers\").split(' ')]\n",
    "\n",
    "# Enter a key which calculates addition, subtraction, multiplication and division\n",
    "key=input(\"Enter which option you want to operate\")\n",
    "\n",
    "# Conditional operator\n",
    "if (key=='addition'):\n",
    "    print(\"Addition:\",a+b)\n",
    "if (key=='subtraction'):\n",
    "    print(\"Subtraction:\",a-b)\n",
    "if (key=='multiplication'):\n",
    "    print(\"Multiplication:\",a*b)\n",
    "if (key=='division'):\n",
    "    print(\"Division:\",a/b)\n"
   ]
  },
  {
   "cell_type": "markdown",
   "id": "5b0437ed-209e-41c7-8d4e-47d83dded294",
   "metadata": {},
   "source": [
    "### 20. Write a program that determines the roots of a cubic equation using the Cardano formula."
   ]
  },
  {
   "cell_type": "code",
   "execution_count": 3,
   "id": "8c4b69b0-ab25-4670-8cb1-a6ef9c184024",
   "metadata": {},
   "outputs": [
    {
     "name": "stdin",
     "output_type": "stream",
     "text": [
      "Enter the coefficient a:  2\n",
      "Enter the coefficient b:  -11\n",
      "Enter the coefficient c:  17\n",
      "Enter the coefficient d:  -7\n"
     ]
    },
    {
     "name": "stdout",
     "output_type": "stream",
     "text": [
      "Roots of the cubic equation:\n",
      "Root 1: 3.162\n",
      "Root 2: 0.659\n",
      "Root 3: 1.679\n"
     ]
    }
   ],
   "source": [
    "import math\n",
    "\n",
    "def cubic_roots(a, b, c, d):\n",
    "    # Calculate the discriminant and its cube root\n",
    "    p = (3 * a * c - b**2) / (3 * a**2)\n",
    "    q = (2 * b**3 - 9 * a * b * c + 27 * a**2 * d) / (27 * a**3)\n",
    "    discriminant = q**2 / 4 + p**3 / 27\n",
    "\n",
    "    # Check if the discriminant is nonnegative\n",
    "    if discriminant >= 0:\n",
    "        # Calculate the three roots\n",
    "        root1 = (-q / 2 + math.sqrt(discriminant))**(1/3)\n",
    "        root2 = (-q / 2 - math.sqrt(discriminant))**(1/3)\n",
    "        real_part = -b / (3 * a)\n",
    "        root3 = (root1 + root2) - real_part\n",
    "        root4 = -(root1 + root2) / 2 - real_part + (root1 - root2) * math.sqrt(3) / 2j\n",
    "        root5 = -(root1 + root2) / 2 - real_part - (root1 - root2) * math.sqrt(3) / 2j\n",
    "\n",
    "        return [root3, root4, root5]\n",
    "    else:\n",
    "        # Calculate the three roots for complex numbers\n",
    "        r = math.sqrt((-p / 3)**3)\n",
    "        theta = math.acos(-q / (2 * math.sqrt((-p / 3)**3)))\n",
    "        root1 = 2 * math.sqrt(-p / 3) * math.cos(theta / 3) - b / (3 * a)\n",
    "        root2 = 2 * math.sqrt(-p / 3) * math.cos((theta + 2 * math.pi) / 3) - b / (3 * a)\n",
    "        root3 = 2 * math.sqrt(-p / 3) * math.cos((theta + 4 * math.pi) / 3) - b / (3 * a)\n",
    "\n",
    "        return [root1, root2, root3]\n",
    "\n",
    "# Input coefficients for the cubic equation ax^3 + bx^2 + cx + d = 0\n",
    "a = float(input(\"Enter the coefficient a: \"))\n",
    "b = float(input(\"Enter the coefficient b: \"))\n",
    "c = float(input(\"Enter the coefficient c: \"))\n",
    "d = float(input(\"Enter the coefficient d: \"))\n",
    "\n",
    "roots = cubic_roots(a, b, c, d)\n",
    "print(\"Roots of the cubic equation:\")\n",
    "for i, root in enumerate(roots):\n",
    "    print(f\"Root {i + 1}: {root:.3f}\")"
   ]
  },
  {
   "cell_type": "markdown",
   "id": "186fa555-27de-4ae9-90f3-70f9f58f8f04",
   "metadata": {},
   "source": [
    "### Advanced Level:\n",
    "---"
   ]
  },
  {
   "cell_type": "markdown",
   "id": "a07b4b9a-4464-44f3-b72d-eca9f93b3f2d",
   "metadata": {},
   "source": [
    "###  21. Create a program that calculates the income tax based on the user's income and tax brackets"
   ]
  },
  {
   "cell_type": "code",
   "execution_count": 4,
   "id": "81817c01-5257-4e89-82d5-24131bdb34a1",
   "metadata": {},
   "outputs": [
    {
     "name": "stdin",
     "output_type": "stream",
     "text": [
      "Enter annual income 3000000\n"
     ]
    },
    {
     "name": "stdout",
     "output_type": "stream",
     "text": [
      "Total tax applicable at 3000000 is 637500.0 Rs.\n"
     ]
    }
   ],
   "source": [
    "# Enter a income \n",
    "amount=int(input(\"Enter annual income\"))\n",
    "\n",
    "# Calculate the income tax\n",
    "if (amount<=250000):\n",
    "    print(f\"Total tax applicable at {amount} is {'0'} Rs.\")\n",
    "elif (250000<amount<=500000):\n",
    "    print(f\"Total tax applicable at {amount} is {(amount-250000)*5/100} Rs.\")\n",
    "elif (500000<amount<=750000):\n",
    "    print(f\"Total tax applicable at {amount} is {(amount-500000)*10/100+12500} Rs.\")\n",
    "elif (750000<amount<=1000000):\n",
    "    print(f\"Total tax applicable at {amount} is {(amount-750000)*15/100+37500} Rs.\")\n",
    "elif (1000000<amount<=1250000):\n",
    "    print(f\"Total tax applicable at {amount} is {(amount-1000000)*20/100+75000} Rs.\")\n",
    "elif (1250000<amount<=1500000):\n",
    "    print(f\"Total tax applicable at {amount} is {(amount-1250000)*25/100+125000} Rs.\")\n",
    "else:\n",
    "    print(f\"Total tax applicable at {amount} is {(amount-1500000)*30/100+187500} Rs.\")"
   ]
  },
  {
   "cell_type": "markdown",
   "id": "708ad9e0-2ed0-4f07-af8f-239d3763b414",
   "metadata": {},
   "source": [
    "### 22. Write a program that simulates a rock-paper-scissors game against the computer."
   ]
  },
  {
   "cell_type": "code",
   "execution_count": 8,
   "id": "fa7e4468-5dcc-4106-a632-73c8c0d289d9",
   "metadata": {},
   "outputs": [
    {
     "name": "stdin",
     "output_type": "stream",
     "text": [
      "Enter any choice (rock-paper-scissors) paper\n"
     ]
    },
    {
     "name": "stdout",
     "output_type": "stream",
     "text": [
      "User's choice paper\n",
      "Computer's choice rock\n",
      "User wins\n"
     ]
    }
   ],
   "source": [
    "import random\n",
    "user_action=str(input(\"Enter any choice (rock-paper-scissors)\"))\n",
    "possible_action=['rock','paper','scissors']\n",
    "computer_action=random.choice(possible_action)\n",
    "print(\"User's choice\",user_action)\n",
    "print(\"Computer's choice\",computer_action)\n",
    "\n",
    "# Game against computer\n",
    "if (computer_action==user_action):\n",
    "    print(\"Tie\")\n",
    "else:\n",
    "    if (computer_action=='rock'):\n",
    "        if (user_action=='paper'):\n",
    "            print(\"User wins\")\n",
    "        else:\n",
    "            print(\"Computer wins\")\n",
    "    elif (computer_action=='paper'):\n",
    "        if (user_action=='scissors'):\n",
    "            print(\"User wins\")\n",
    "        else:\n",
    "            print(\"Computer wins\")\n",
    "    elif (computer_action=='scissors'):\n",
    "        if (user_action=='paper'):\n",
    "            print(\"Computer wins\")\n",
    "        else:\n",
    "            print(\"User wins\")\n",
    "    "
   ]
  },
  {
   "cell_type": "markdown",
   "id": "08c185c0-40d0-4765-ac6c-dfef1ae7dd50",
   "metadata": {},
   "source": [
    "### 23. Develop a program that generates a random password based on user preferences (length, complexity)"
   ]
  },
  {
   "cell_type": "code",
   "execution_count": 30,
   "id": "46eebd9a-6eff-4a16-b47a-c22bd4037d76",
   "metadata": {},
   "outputs": [
    {
     "name": "stdin",
     "output_type": "stream",
     "text": [
      "Enter a valid password hello\n"
     ]
    },
    {
     "name": "stdout",
     "output_type": "stream",
     "text": [
      "Invalid password\n"
     ]
    }
   ],
   "source": [
    "a=str(input(\"Enter a valid password\"))\n",
    "password(a)\n",
    "\n",
    "# password\n",
    "def password(pwd:str):\n",
    "    if (8<=len(a)<=15 and (char in pwd for char in range(0,10)) and (pwd[0].isalpha()) and all(j not in pwd for j in [' ','@','#','$','%','^','&','*'])):\n",
    "        print(\"Valid password\")\n",
    "    else:\n",
    "        print(\"Invalid password\")"
   ]
  },
  {
   "cell_type": "markdown",
   "id": "3525cdca-dead-48f9-ada6-a33f2b55d84d",
   "metadata": {},
   "source": [
    "### 24. Create a program that implements a simple text-based adventure game with branching scenarios."
   ]
  },
  {
   "cell_type": "code",
   "execution_count": 4,
   "id": "bdf52875-5722-4a04-aaf9-77dda29466d8",
   "metadata": {},
   "outputs": [
    {
     "name": "stdout",
     "output_type": "stream",
     "text": [
      "Welcome to the Text Adventure Game!\n",
      "You find yourself standing in front of a dark cave entrance.\n",
      "Do you want to enter the cave or go back?\n"
     ]
    },
    {
     "name": "stdin",
     "output_type": "stream",
     "text": [
      "Enter your choice:  enter\n"
     ]
    },
    {
     "name": "stdout",
     "output_type": "stream",
     "text": [
      "You enter the dark cave, and it's pitch black inside.\n",
      "You have two options: light a torch or turn back.\n"
     ]
    },
    {
     "name": "stdin",
     "output_type": "stream",
     "text": [
      "Enter your choice:  light torch\n"
     ]
    },
    {
     "name": "stdout",
     "output_type": "stream",
     "text": [
      "You light a torch and continue deeper into the cave.\n",
      "As you venture deeper into the cave, you discover a vast treasure room.\n",
      "You see a treasure chest, a sword, and a mysterious door.\n",
      "What would you like to do?\n"
     ]
    },
    {
     "name": "stdin",
     "output_type": "stream",
     "text": [
      "Enter your choice:  open chest\n"
     ]
    },
    {
     "name": "stdout",
     "output_type": "stream",
     "text": [
      "You open the treasure chest and find a pile of gold coins! You're rich!\n",
      "Congratulations! You've won the game.\n"
     ]
    }
   ],
   "source": [
    "import time\n",
    "\n",
    "def print_slow(text):\n",
    "    for char in text:\n",
    "        print(char, end='', flush=True)\n",
    "        time.sleep(0.03)\n",
    "    print()\n",
    "\n",
    "def get_choice(choices):\n",
    "    while True:\n",
    "        choice = input(\"Enter your choice: \").strip().lower()\n",
    "        if choice in choices:\n",
    "            return choice\n",
    "        else:\n",
    "            print(\"Invalid choice. Please choose again.\")\n",
    "\n",
    "def game_start():\n",
    "    print_slow(\"Welcome to the Text Adventure Game!\")\n",
    "    print_slow(\"You find yourself standing in front of a dark cave entrance.\")\n",
    "    print_slow(\"Do you want to enter the cave or go back?\")\n",
    "\n",
    "    choice = get_choice([\"enter\", \"go back\"])\n",
    "\n",
    "    if choice == \"enter\":\n",
    "        cave_entrance()\n",
    "    else:\n",
    "        print_slow(\"You decide not to enter the cave and head back home. Game Over!\")\n",
    "\n",
    "def cave_entrance():\n",
    "    print_slow(\"You enter the dark cave, and it's pitch black inside.\")\n",
    "    print_slow(\"You have two options: light a torch or turn back.\")\n",
    "\n",
    "    choice = get_choice([\"light torch\", \"turn back\"])\n",
    "\n",
    "    if choice == \"light torch\":\n",
    "        print_slow(\"You light a torch and continue deeper into the cave.\")\n",
    "        treasure_room()\n",
    "    else:\n",
    "        print_slow(\"You decide to turn back and leave the cave. Game Over!\")\n",
    "\n",
    "def treasure_room():\n",
    "    print_slow(\"As you venture deeper into the cave, you discover a vast treasure room.\")\n",
    "    print_slow(\"You see a treasure chest, a sword, and a mysterious door.\")\n",
    "    print_slow(\"What would you like to do?\")\n",
    "\n",
    "    choice = get_choice([\"open chest\", \"take sword\", \"enter door\"])\n",
    "\n",
    "    if choice == \"open chest\":\n",
    "        print_slow(\"You open the treasure chest and find a pile of gold coins! You're rich!\")\n",
    "        print_slow(\"Congratulations! You've won the game.\")\n",
    "    elif choice == \"take sword\":\n",
    "        print_slow(\"You take the sword and feel more confident.\")\n",
    "        dragon_room()\n",
    "    else:\n",
    "        print_slow(\"You enter the mysterious door and find yourself in a new adventure.\")\n",
    "        print_slow(\"The game continues...\")\n",
    "\n",
    "def dragon_room():\n",
    "    print_slow(\"You proceed cautiously with your sword and enter a room with a sleeping dragon!\")\n",
    "    print_slow(\"You can either try to sneak past the dragon or attack it.\")\n",
    "\n",
    "    choice = get_choice([\"sneak past\", \"attack\"])\n",
    "\n",
    "    if choice == \"sneak past\":\n",
    "        print_slow(\"You manage to sneak past the dragon without waking it.\")\n",
    "        print_slow(\"Congratulations! You've successfully completed the adventure.\")\n",
    "    else:\n",
    "        print_slow(\"You decide to attack the dragon, but it wakes up and breathes fire on you. Game Over!\")\n",
    "\n",
    "# Start the game\n",
    "game_start()"
   ]
  },
  {
   "cell_type": "markdown",
   "id": "d0544d83-b8d6-4696-bb03-f59798f3aae6",
   "metadata": {},
   "source": [
    "### 25. Build a program that solves a linear equation  for x, considering different cases."
   ]
  },
  {
   "cell_type": "code",
   "execution_count": 5,
   "id": "f9e8c768-02b7-4836-a51e-4c376427a5e8",
   "metadata": {},
   "outputs": [
    {
     "name": "stdin",
     "output_type": "stream",
     "text": [
      "Enter the coefficient a:  2\n",
      "Enter the coefficient b:  5\n"
     ]
    },
    {
     "name": "stdout",
     "output_type": "stream",
     "text": [
      "The solution is x = -2.500\n"
     ]
    }
   ],
   "source": [
    "# Input coefficients for the linear equation ax + b = 0\n",
    "a = float(input(\"Enter the coefficient a: \"))\n",
    "b = float(input(\"Enter the coefficient b: \"))\n",
    "\n",
    "if a == 0:\n",
    "    if b == 0:\n",
    "        print(\"Infinite solutions: Any value of x will satisfy the equation.\")\n",
    "    else:\n",
    "        print(\"No solution: The equation is not satisfied for any value of x.\")\n",
    "else:\n",
    "    x = -b / a\n",
    "    print(f\"The solution is x = {x:.3f}\")"
   ]
  },
  {
   "cell_type": "markdown",
   "id": "2e28bf02-9350-4629-a08f-af7c78832637",
   "metadata": {},
   "source": [
    "### 26. Write a program that simulates a basic quiz game with multiple-choice questions and scoring."
   ]
  },
  {
   "cell_type": "code",
   "execution_count": 6,
   "id": "849784e2-0e2d-41cb-8ca8-50a53dd55449",
   "metadata": {},
   "outputs": [
    {
     "name": "stdout",
     "output_type": "stream",
     "text": [
      "Question 1:\n",
      "What is the capital of France?\n",
      "A) London\n",
      "B) Berlin\n",
      "C) Paris\n",
      "\n"
     ]
    },
    {
     "name": "stdin",
     "output_type": "stream",
     "text": [
      "Your answer (A/B/C):  C\n"
     ]
    },
    {
     "name": "stdout",
     "output_type": "stream",
     "text": [
      "Correct!\n",
      "\n",
      "Question 2:\n",
      "Which planet is known as the Red Planet?\n",
      "A) Earth\n",
      "B) Mars\n",
      "C) Venus\n",
      "\n"
     ]
    },
    {
     "name": "stdin",
     "output_type": "stream",
     "text": [
      "Your answer (A/B/C):  B\n"
     ]
    },
    {
     "name": "stdout",
     "output_type": "stream",
     "text": [
      "Correct!\n",
      "\n",
      "Question 3:\n",
      "What is the largest mammal in the world?\n",
      "A) Elephant\n",
      "B) Giraffe\n",
      "C) Blue Whale\n",
      "\n"
     ]
    },
    {
     "name": "stdin",
     "output_type": "stream",
     "text": [
      "Your answer (A/B/C):  A\n"
     ]
    },
    {
     "name": "stdout",
     "output_type": "stream",
     "text": [
      "Wrong! The correct answer is C\n",
      "\n",
      "Quiz completed! Your score is: 2/3\n"
     ]
    }
   ],
   "source": [
    "# Define quiz questions and answers\n",
    "questions = [\n",
    "    \"What is the capital of France?\\nA) London\\nB) Berlin\\nC) Paris\\n\",\n",
    "    \"Which planet is known as the Red Planet?\\nA) Earth\\nB) Mars\\nC) Venus\\n\",\n",
    "    \"What is the largest mammal in the world?\\nA) Elephant\\nB) Giraffe\\nC) Blue Whale\\n\"\n",
    "]\n",
    "\n",
    "answers = [\"C\", \"B\", \"C\"]\n",
    "\n",
    "# Initialize the score\n",
    "score = 0\n",
    "\n",
    "# Display and evaluate questions\n",
    "for i, question in enumerate(questions, start=1):\n",
    "    print(f\"Question {i}:\")\n",
    "    print(question)\n",
    "    user_answer = input(\"Your answer (A/B/C): \").strip().upper()\n",
    "\n",
    "    if user_answer == answers[i - 1]:\n",
    "        print(\"Correct!\\n\")\n",
    "        score += 1\n",
    "    else:\n",
    "        print(f\"Wrong! The correct answer is {answers[i - 1]}\\n\")\n",
    "\n",
    "# Display the final score\n",
    "print(f\"Quiz completed! Your score is: {score}/{len(questions)}\")"
   ]
  },
  {
   "cell_type": "markdown",
   "id": "96cd0202-712f-4e5e-b636-412d0a518b05",
   "metadata": {},
   "source": [
    "### 27. Develop a program that determines whether a given year is a prime number or not."
   ]
  },
  {
   "cell_type": "code",
   "execution_count": 2,
   "id": "adf9323e-cf86-45cf-9c1f-cf8c19488e0a",
   "metadata": {},
   "outputs": [
    {
     "name": "stdin",
     "output_type": "stream",
     "text": [
      "Enter a year 2016\n"
     ]
    },
    {
     "name": "stdout",
     "output_type": "stream",
     "text": [
      "Year 2016 is not prime.\n"
     ]
    }
   ],
   "source": [
    "# Enter a year\n",
    "year=int(input(\"Enter a year\"))\n",
    "\n",
    "# Check the given year is prime or not\n",
    "t=0\n",
    "for i in range(2,year):\n",
    "    if (year%i==0):\n",
    "        break\n",
    "    else:\n",
    "        t+=1\n",
    "\n",
    "if (t==0):\n",
    "    print(f\"Year {year} is not prime.\")\n",
    "else:\n",
    "    print(f\"Year {year} is prime.\")"
   ]
  },
  {
   "cell_type": "markdown",
   "id": "a4787110-8249-4ef4-8374-2d3465676576",
   "metadata": {},
   "source": [
    "### 28. Create a program that sorts three numbers in ascending order using conditional statements"
   ]
  },
  {
   "cell_type": "code",
   "execution_count": 5,
   "id": "d0d132c1-d576-4eea-bccc-ef81f051abaa",
   "metadata": {},
   "outputs": [
    {
     "name": "stdin",
     "output_type": "stream",
     "text": [
      "Enter a number 6 2 3\n"
     ]
    },
    {
     "name": "stdout",
     "output_type": "stream",
     "text": [
      "2 3 6\n"
     ]
    }
   ],
   "source": [
    "# enter three numbers\n",
    "a,b,c=[int(i) for i in input(\"Enter a number\").split(\" \")]\n",
    "\n",
    "# sort three numbers in ascending order\n",
    "if (a>=b):\n",
    "    a,b=b,a\n",
    "if (b>=c):\n",
    "    b,c=c,b\n",
    "\n",
    "# Print the numbers in ascending order\n",
    "print(a,b,c)"
   ]
  },
  {
   "cell_type": "markdown",
   "id": "4996c754-37e3-4062-9f0a-fc8bac8f7f0c",
   "metadata": {},
   "source": [
    "### 29. Build a program that determines the roots of a quartic equation using numerical methods."
   ]
  },
  {
   "cell_type": "code",
   "execution_count": 7,
   "id": "cecb8821-609c-4e1c-acb1-345eb3bb5b59",
   "metadata": {},
   "outputs": [
    {
     "name": "stdout",
     "output_type": "stream",
     "text": [
      "Roots of the quartic equation:\n",
      "Root 1: 0.381841\n",
      "Root 2: 0.000000\n",
      "Root 3: 0.000000\n",
      "Root 4: 0.000000\n"
     ]
    }
   ],
   "source": [
    "def quartic_equation(x, coefficients):\n",
    "    \"\"\"\n",
    "    Evaluate the quartic equation f(x) = ax^4 + bx^3 + cx^2 + dx + e.\n",
    "    \"\"\"\n",
    "    a, b, c, d, e = coefficients\n",
    "    return a * x**4 + b * x**3 + c * x**2 + d * x + e\n",
    "\n",
    "def derivative_quartic(x, coefficients):\n",
    "    \"\"\"\n",
    "    Evaluate the derivative of the quartic equation f'(x) = 4ax^3 + 3bx^2 + 2cx + d.\n",
    "    \"\"\"\n",
    "    a, b, c, d, _ = coefficients\n",
    "    return 4 * a * x**3 + 3 * b * x**2 + 2 * c * x + d\n",
    "\n",
    "def newton_raphson_quartic(coefficients, initial_guess, tolerance=1e-6, max_iterations=100):\n",
    "    x = initial_guess\n",
    "    for i in range(max_iterations):\n",
    "        f_x = quartic_equation(x, coefficients)\n",
    "        f_prime_x = derivative_quartic(x, coefficients)\n",
    "        x -= f_x / f_prime_x\n",
    "\n",
    "        if abs(f_x) <= tolerance:\n",
    "            return x\n",
    "\n",
    "    return None  # No convergence\n",
    "\n",
    "# Input coefficients for the quartic equation ax^4 + bx^3 + cx^2 + dx + e = 0\n",
    "coefficients = [1, -6, 11, -6, 1]\n",
    "\n",
    "# Find the roots using the Newton-Raphson method\n",
    "roots = []\n",
    "for _ in range(4):  # Quartic equation has up to 4 roots\n",
    "    root = newton_raphson_quartic(coefficients, initial_guess=0)\n",
    "    if root is not None:\n",
    "        roots.append(root)\n",
    "        # Set the found root as a boundary for the next search\n",
    "        coefficients[4] = quartic_equation(root, coefficients)\n",
    "    else:\n",
    "        break\n",
    "\n",
    "print(\"Roots of the quartic equation:\")\n",
    "for i, root in enumerate(roots):\n",
    "    print(f\"Root {i + 1}: {root:.6f}\")\n"
   ]
  },
  {
   "cell_type": "markdown",
   "id": "ace0e9ad-06e5-4f6f-b8b6-6672ff99385d",
   "metadata": {},
   "source": [
    "### 30. Write a program that calculates the BMI (Body Mass Index) and provides health recommendations based on the user's input."
   ]
  },
  {
   "cell_type": "code",
   "execution_count": 4,
   "id": "80a21bb8-2135-42cf-8986-9829ffeb181e",
   "metadata": {},
   "outputs": [
    {
     "name": "stdin",
     "output_type": "stream",
     "text": [
      "Enter the height in meters: 1.8\n",
      "Enter the weight in kg: 80\n"
     ]
    },
    {
     "name": "stdout",
     "output_type": "stream",
     "text": [
      "Your BMI is: 24.69\n",
      "Your weight is normal.\n"
     ]
    }
   ],
   "source": [
    "# Enter height and weight\n",
    "h=float(input(\"Enter the height in meters:\"))\n",
    "w=float(input(\"Enter the weight in kg:\"))\n",
    "\n",
    "# calculate BMI\n",
    "bmi=round((w / h**2),2)\n",
    "print(\"Your BMI is:\",bmi)\n",
    "\n",
    "# Conditional statements\n",
    "if bmi <= 18.5: \n",
    "    print(\"You are underweight.\") \n",
    "elif 18.5 < bmi <= 24.9: \n",
    "    print(\"Your weight is normal.\") \n",
    "elif 25 < bmi <= 29.29: \n",
    "    print(\"You are overweight.\") \n",
    "else: \n",
    "    print(\"You are obese.\")"
   ]
  },
  {
   "cell_type": "markdown",
   "id": "42882f08-5cd5-47af-9614-114316448604",
   "metadata": {},
   "source": [
    "### 31. Create a program that validates a password based on complexity rules (length, characters, etc.).\n",
    "Password should not contain any space. \n",
    "Password should contain at least one digit(0-9). \n",
    "Password length should be between 8 to 15 characters. \n",
    "Password should contain first character is alphabet.\n",
    "Password should contain at least one special character ( @, #, %, &, !, $, etc…)."
   ]
  },
  {
   "cell_type": "code",
   "execution_count": 29,
   "id": "47d945b6-b942-46f5-be8d-6dd3ddb11e8e",
   "metadata": {},
   "outputs": [
    {
     "name": "stdin",
     "output_type": "stream",
     "text": [
      "Enter a valid password Hello123\n"
     ]
    },
    {
     "name": "stdout",
     "output_type": "stream",
     "text": [
      "Valid password\n"
     ]
    }
   ],
   "source": [
    "a=str(input(\"Enter a valid password\"))\n",
    "password(a)\n",
    "\n",
    "# password\n",
    "def password(pwd:str):\n",
    "    if (8<=len(a)<=15 and (char in pwd for char in range(0,10)) and (pwd[0].isalpha()) and all(j not in pwd for j in [' ','@','#','$','%','^','&','*'])):\n",
    "        print(\"Valid password\")\n",
    "    else:\n",
    "        print(\"Invalid password\")"
   ]
  },
  {
   "cell_type": "markdown",
   "id": "86baabe6-10c2-475a-b37f-2394a89321df",
   "metadata": {},
   "source": [
    "### 32. Develop a program that performs matrix addition and subtraction based on user input."
   ]
  },
  {
   "cell_type": "code",
   "execution_count": 9,
   "id": "add1dd49-6922-4db4-85d2-2b396ce6f43d",
   "metadata": {},
   "outputs": [
    {
     "name": "stdin",
     "output_type": "stream",
     "text": [
      "Enter addition or subtraction which operator you want to perform on given matrix addition\n"
     ]
    },
    {
     "name": "stdout",
     "output_type": "stream",
     "text": [
      "Addition of two matrix is: [[4, 6], [4, 6], [1, 1]]\n"
     ]
    }
   ],
   "source": [
    "# Enter two matrix\n",
    "mat1 = [[1, 2], [3, 4], [1, 0]]\n",
    "mat2 = [[3, 4], [1, 2], [0, 1]]\n",
    "\n",
    "# Enter which operation you want to perform\n",
    "a=input(\"Enter addition or subtraction which operator you want to perform on given matrix\")\n",
    "\n",
    "# Addition and subtaction of two matrix\n",
    "matrix_add=[[0, 0], [0, 0], [0, 0]]\n",
    "matrix_sub=[[0, 0], [0, 0], [0, 0]]\n",
    "for i in range(len(mat1)):\n",
    "    for j in range(len(mat1[0])):\n",
    "        if (a=='addition'):\n",
    "            matrix_add[i][j]=(mat1[i][j]+mat2[i][j])\n",
    "        if (a=='subtraction'):\n",
    "            matrix_sub[i][j]=(mat1[i][j]-mat2[i][j])\n",
    "\n",
    "# Print the addition matrix or subtracted matrix\n",
    "if (a=='addition'):\n",
    "        print(\"Addition of two matrix is:\",matrix_add)\n",
    "if (a=='subtraction'):\n",
    "        print(\"Subtraction of two matrix is:\",matrix_sub)    "
   ]
  },
  {
   "cell_type": "markdown",
   "id": "b2e2f973-1a3e-46d2-841d-d7cd676b1e13",
   "metadata": {},
   "source": [
    "### 33. Write a program that calculates the greatest common divisor (GCD) of two numbers using the Euclidean algorithm."
   ]
  },
  {
   "cell_type": "code",
   "execution_count": 10,
   "id": "62c87296-89d4-45a0-9765-0e0db198f1f5",
   "metadata": {},
   "outputs": [
    {
     "name": "stdin",
     "output_type": "stream",
     "text": [
      "Enter number 5 10\n"
     ]
    },
    {
     "name": "stdout",
     "output_type": "stream",
     "text": [
      "GCD of two numbers: 5\n"
     ]
    }
   ],
   "source": [
    "# Enter two numbers\n",
    "a,b=[int(x) for x in input(\"Enter number\").split()]\n",
    "\n",
    "# Find gcd of two numbers\n",
    "if (a>b):\n",
    "    pass\n",
    "else:\n",
    "    a,b=b,a\n",
    "\n",
    "while(b!=0):\n",
    "    r=a%b\n",
    "    a=b\n",
    "    b=r\n",
    "       \n",
    "# Print gcd of two numbers\n",
    "print(\"GCD of two numbers:\",a)"
   ]
  },
  {
   "cell_type": "markdown",
   "id": "cc3ed9e4-026f-4da2-bc20-f341e40aa6f3",
   "metadata": {},
   "source": [
    "### 34. Build a program that performs matrix multiplication using nested loops and conditional statements"
   ]
  },
  {
   "cell_type": "code",
   "execution_count": 12,
   "id": "5f0d240b-fd54-4de3-9f96-f2ff3dee6010",
   "metadata": {},
   "outputs": [
    {
     "name": "stdout",
     "output_type": "stream",
     "text": [
      "Matrix multiplication of two matrix is: [[5, 8], [13, 20]]\n"
     ]
    }
   ],
   "source": [
    "# Enter two matrix\n",
    "mat1 = [[1, 2], [3, 4]]\n",
    "mat2 = [[3, 4], [1, 2]]\n",
    "\n",
    "# Addition and subtaction of two matrix\n",
    "result=[[0, 0], [0, 0]]\n",
    "\n",
    "# Perform matrix multiplication\n",
    "if (len(mat1)==len(mat2)):\n",
    "    for i in range(len(mat1)):\n",
    "        for j in range(len(mat1[0])):\n",
    "            for k in range(len(mat1[0])):\n",
    "                result[i][j]+=mat1[i][k]*mat2[k][j]\n",
    "\n",
    "# Print matrix multiplication of two matrix\n",
    "print(\"Matrix multiplication of two matrix is:\",result)"
   ]
  },
  {
   "cell_type": "markdown",
   "id": "d0de651a-3001-4ab8-aaf3-35147a14717b",
   "metadata": {},
   "source": [
    "### 35. Create a program that simulates a basic text-based tic-tac-toe game against the computer."
   ]
  },
  {
   "cell_type": "code",
   "execution_count": 19,
   "id": "9404b2a7-9cdc-4795-8ff0-f147c3f81842",
   "metadata": {},
   "outputs": [
    {
     "name": "stdout",
     "output_type": "stream",
     "text": [
      "Welcome to Tic-Tac-Toe!\n",
      "  |   |  \n",
      "---------\n",
      "  |   |  \n",
      "---------\n",
      "  |   |  \n",
      "---------\n"
     ]
    },
    {
     "name": "stdin",
     "output_type": "stream",
     "text": [
      "Enter your move (row and column):  0 1\n"
     ]
    },
    {
     "name": "stdout",
     "output_type": "stream",
     "text": [
      "  | X |  \n",
      "---------\n",
      "  |   |  \n",
      "---------\n",
      "  |   |  \n",
      "---------\n",
      "  | X | O\n",
      "---------\n",
      "  |   |  \n",
      "---------\n",
      "  |   |  \n",
      "---------\n"
     ]
    },
    {
     "name": "stdin",
     "output_type": "stream",
     "text": [
      "Enter your move (row and column):  1 2\n"
     ]
    },
    {
     "name": "stdout",
     "output_type": "stream",
     "text": [
      "  | X | O\n",
      "---------\n",
      "  |   | X\n",
      "---------\n",
      "  |   |  \n",
      "---------\n",
      "  | X | O\n",
      "---------\n",
      "  |   | X\n",
      "---------\n",
      "O |   |  \n",
      "---------\n"
     ]
    },
    {
     "name": "stdin",
     "output_type": "stream",
     "text": [
      "Enter your move (row and column):  2 2\n"
     ]
    },
    {
     "name": "stdout",
     "output_type": "stream",
     "text": [
      "  | X | O\n",
      "---------\n",
      "  |   | X\n",
      "---------\n",
      "O |   | X\n",
      "---------\n",
      "  | X | O\n",
      "---------\n",
      "O |   | X\n",
      "---------\n",
      "O |   | X\n",
      "---------\n"
     ]
    },
    {
     "name": "stdin",
     "output_type": "stream",
     "text": [
      "Enter your move (row and column):  0 1\n"
     ]
    },
    {
     "name": "stdout",
     "output_type": "stream",
     "text": [
      "That cell is already taken. Try again.\n",
      "  | X | O\n",
      "---------\n",
      "O |   | X\n",
      "---------\n",
      "O |   | X\n",
      "---------\n"
     ]
    },
    {
     "name": "stdin",
     "output_type": "stream",
     "text": [
      "Enter your move (row and column):  1 1\n"
     ]
    },
    {
     "name": "stdout",
     "output_type": "stream",
     "text": [
      "  | X | O\n",
      "---------\n",
      "O | X | X\n",
      "---------\n",
      "O |   | X\n",
      "---------\n",
      "  | X | O\n",
      "---------\n",
      "O | X | X\n",
      "---------\n",
      "O | O | X\n",
      "---------\n"
     ]
    },
    {
     "name": "stdin",
     "output_type": "stream",
     "text": [
      "Enter your move (row and column):  1 2\n"
     ]
    },
    {
     "name": "stdout",
     "output_type": "stream",
     "text": [
      "That cell is already taken. Try again.\n",
      "  | X | O\n",
      "---------\n",
      "O | X | X\n",
      "---------\n",
      "O | O | X\n",
      "---------\n"
     ]
    },
    {
     "name": "stdin",
     "output_type": "stream",
     "text": [
      "Enter your move (row and column):  0 0\n"
     ]
    },
    {
     "name": "stdout",
     "output_type": "stream",
     "text": [
      "X | X | O\n",
      "---------\n",
      "O | X | X\n",
      "---------\n",
      "O | O | X\n",
      "---------\n",
      "X wins! Congratulations!\n"
     ]
    }
   ],
   "source": [
    "import random\n",
    "\n",
    "def print_board(board):\n",
    "    for row in board:\n",
    "        print(\" | \".join(row))\n",
    "        print(\"-\" * 9)\n",
    "\n",
    "def check_win(board, player):\n",
    "    for row in board:\n",
    "        if all(cell == player for cell in row):\n",
    "            return True\n",
    "\n",
    "    for col in range(3):\n",
    "        if all(board[row][col] == player for row in range(3)):\n",
    "            return True\n",
    "\n",
    "    if all(board[i][i] == player for i in range(3)) or all(board[i][2 - i] == player for i in range(3)):\n",
    "        return True\n",
    "\n",
    "    return False\n",
    "\n",
    "def get_empty_cells(board):\n",
    "    return [(row, col) for row in range(3) for col in range(3) if board[row][col] == \" \"]\n",
    "\n",
    "def is_board_full(board):\n",
    "    return all(board[row][col] != \" \" for row in range(3) for col in range(3))\n",
    "\n",
    "def computer_move(board):\n",
    "    empty_cells = get_empty_cells(board)\n",
    "    return random.choice(empty_cells)\n",
    "\n",
    "def main():\n",
    "    board = [[\" \" for _ in range(3)] for _ in range(3)]\n",
    "    player = \"X\"\n",
    "    computer = \"O\"\n",
    "\n",
    "    print(\"Welcome to Tic-Tac-Toe!\")\n",
    "\n",
    "    while True:\n",
    "        print_board(board)\n",
    "        if player == \"X\":\n",
    "            row, col = map(int, input(\"Enter your move (row and column): \").split())\n",
    "        else:\n",
    "            row, col = computer_move(board)\n",
    "\n",
    "        if board[row][col] == \" \":\n",
    "            board[row][col] = player\n",
    "            if check_win(board, player):\n",
    "                print_board(board)\n",
    "                print(f\"{player} wins! Congratulations!\")\n",
    "                break\n",
    "            elif is_board_full(board):\n",
    "                print_board(board)\n",
    "                print(\"It's a draw!\")\n",
    "                break\n",
    "            player = \"O\" if player == \"X\" else \"X\"\n",
    "        else:\n",
    "            print(\"That cell is already taken. Try again.\")\n",
    "\n",
    "if __name__ == \"__main__\":\n",
    "    main()\n"
   ]
  },
  {
   "cell_type": "markdown",
   "id": "1da40fe4-b6fb-4c9d-bf12-86d1d69d52b5",
   "metadata": {},
   "source": [
    "### 36. Write a program that generates Fibonacci numbers up to a specified term using iterative methods."
   ]
  },
  {
   "cell_type": "code",
   "execution_count": 14,
   "id": "12f3f992-d8b8-4f4c-962c-af43e735b3e5",
   "metadata": {},
   "outputs": [
    {
     "name": "stdin",
     "output_type": "stream",
     "text": [
      "Enter a number: 5\n"
     ]
    },
    {
     "name": "stdout",
     "output_type": "stream",
     "text": [
      "First 5 fibonacci numbers:\n",
      "0 1 1 2 3 "
     ]
    }
   ],
   "source": [
    "# Enter the number n\n",
    "n=int(input(\"Enter a number:\"))\n",
    "\n",
    "# Print first n fibonacci numbers\n",
    "if (n>=1):\n",
    "    print(f\"First {n} fibonacci numbers:\")\n",
    "    a,b=0,1\n",
    "    print(a,b,end=\" \")\n",
    "    for i in range(n-2):\n",
    "        ans=a+b\n",
    "        a=b\n",
    "        b=ans\n",
    "        print(ans,end=\" \")"
   ]
  },
  {
   "cell_type": "markdown",
   "id": "fe46563c-e6c6-421f-8c7b-1c243f0fadb4",
   "metadata": {},
   "source": [
    "### 37. Develop a program that calculates the nth term of the Fibonacci sequence using memoization"
   ]
  },
  {
   "cell_type": "code",
   "execution_count": 16,
   "id": "ca78748d-5e57-4cbf-9896-9de668a2ff03",
   "metadata": {},
   "outputs": [
    {
     "name": "stdin",
     "output_type": "stream",
     "text": [
      "Enter a number: 5\n"
     ]
    },
    {
     "name": "stdout",
     "output_type": "stream",
     "text": [
      "5th term of fibonacci sequence: 3\n"
     ]
    }
   ],
   "source": [
    "# Enter the number n\n",
    "n=int(input(\"Enter a number:\"))\n",
    "\n",
    "# Print first n fibonacci numbers\n",
    "if (n>=1):\n",
    "    print(f\"{n}th term of fibonacci sequence:\",end=\" \")\n",
    "    a,b=0,1\n",
    "    for i in range(n-2):\n",
    "        ans=a+b\n",
    "        a=b\n",
    "        b=ans\n",
    "    print(ans)"
   ]
  },
  {
   "cell_type": "markdown",
   "id": "4aa276a4-7fdc-4b0a-b7d9-de3933be1157",
   "metadata": {},
   "source": [
    "### 38. Create a program that generates a calendar for a given month and year using conditional statements."
   ]
  },
  {
   "cell_type": "code",
   "execution_count": 24,
   "id": "c7b3516c-7a6b-4cb3-b637-8f16aea237c3",
   "metadata": {},
   "outputs": [
    {
     "name": "stdout",
     "output_type": "stream",
     "text": [
      "Welcome to the Calendar Generator!\n"
     ]
    },
    {
     "name": "stdin",
     "output_type": "stream",
     "text": [
      "Enter the year (e.g., 2023):  2023\n",
      "Enter the month (1-12):  9\n"
     ]
    },
    {
     "name": "stdout",
     "output_type": "stream",
     "text": [
      "   9 2023 | Mo | Tu | We | Th | Fr | Sa | Su\n",
      "-----------------------------------\n",
      "    |     |     |     |     |     |  1\n",
      "-----------------------------------\n",
      " 2 |  3 |  4 |  5 |  6 |  7 |  8\n",
      "-----------------------------------\n",
      " 9 | 10 | 11 | 12 | 13 | 14 | 15\n",
      "-----------------------------------\n",
      "16 | 17 | 18 | 19 | 20 | 21 | 22\n",
      "-----------------------------------\n",
      "23 | 24 | 25 | 26 | 27 | 28 | 29\n",
      "-----------------------------------\n",
      "30 |     |     |     |     |     |    \n",
      "-----------------------------------\n"
     ]
    }
   ],
   "source": [
    "def is_leap_year(year):\n",
    "    \"\"\"\n",
    "    Check if a year is a leap year.\n",
    "    \"\"\"\n",
    "    if (year % 4 == 0 and year % 100 != 0) or (year % 400 == 0):\n",
    "        return True\n",
    "    else:\n",
    "        return False\n",
    "\n",
    "def generate_calendar(year, month):\n",
    "    \"\"\"\n",
    "    Generate a calendar for the specified month and year.\n",
    "    \"\"\"\n",
    "    # Define the names of the months and days of the week\n",
    "    months = [\"January\", \"February\", \"March\", \"April\", \"May\", \"June\",\n",
    "              \"July\", \"August\", \"September\", \"October\", \"November\", \"December\"]\n",
    "    days_of_week = [\"Mo\", \"Tu\", \"We\", \"Th\", \"Fr\", \"Sa\", \"Su\"]\n",
    "\n",
    "    # Determine the number of days in the month\n",
    "    if month == 2:\n",
    "        if is_leap_year(year):\n",
    "            num_days = 29\n",
    "        else:\n",
    "            num_days = 28\n",
    "    elif month in [4, 6, 9, 11]:\n",
    "        num_days = 30\n",
    "    else:\n",
    "        num_days = 31\n",
    "\n",
    "    # Determine the day of the week for the first day of the month\n",
    "    # using Zeller's Congruence formula\n",
    "    k = 1\n",
    "    m = month\n",
    "    D = year % 100\n",
    "    C = year // 100\n",
    "\n",
    "    if m in [1, 2]:\n",
    "        m += 12\n",
    "        D -= 1\n",
    "\n",
    "    f = k + (13 * (m + 1)) // 5 + D + (D // 4) + (C // 4) - 2 * C\n",
    "    day_of_week = (f % 7)\n",
    "\n",
    "    # Create the calendar\n",
    "    calendar = []\n",
    "\n",
    "    # Add the header\n",
    "    header = [\" \" * 3 +str( month) + \" \" + str(year)]\n",
    "    header.extend(days_of_week)\n",
    "    calendar.append(header)\n",
    "\n",
    "    # Initialize the calendar with empty cells\n",
    "    current_row = [\" \" * 3] * 7\n",
    "    current_day = 1\n",
    "\n",
    "    # Fill in the calendar with the days of the month\n",
    "    for day in range(1, num_days + 1):\n",
    "        current_row[day_of_week] = str(current_day).rjust(2)\n",
    "        current_day += 1\n",
    "        day_of_week = (day_of_week + 1) % 7\n",
    "\n",
    "        if day_of_week == 0:\n",
    "            calendar.append(current_row)\n",
    "            current_row = [\" \" * 3] * 7\n",
    "\n",
    "    # Add the final row if needed\n",
    "    if current_row != [\" \" * 3] * 7:\n",
    "        calendar.append(current_row)\n",
    "\n",
    "    return calendar\n",
    "\n",
    "def print_calendar(calendar):\n",
    "    \"\"\"\n",
    "    Print the calendar.\n",
    "    \"\"\"\n",
    "    for row in calendar:\n",
    "        print(\" | \".join(row))\n",
    "        print(\"-\" * 35)\n",
    "\n",
    "def main():\n",
    "    print(\"Welcome to the Calendar Generator!\")\n",
    "\n",
    "    while True:\n",
    "        try:\n",
    "            year = int(input(\"Enter the year (e.g., 2023): \"))\n",
    "            month = int(input(\"Enter the month (1-12): \"))\n",
    "\n",
    "            if 1 <= month <= 12:\n",
    "                break\n",
    "            else:\n",
    "                print(\"Invalid month. Please enter a number between 1 and 12.\")\n",
    "\n",
    "        except ValueError:\n",
    "            print(\"Invalid input. Please enter valid year and month.\")\n",
    "\n",
    "    calendar = generate_calendar(year, month)\n",
    "    print_calendar(calendar)\n",
    "\n",
    "if __name__ == \"__main__\":\n",
    "    main()\n",
    " "
   ]
  },
  {
   "cell_type": "markdown",
   "id": "d1604ab3-cb42-4a7b-bcdb-831e85fd3b18",
   "metadata": {},
   "source": [
    "### 39. Build a program that simulates a basic text-based blackjack game against the computer."
   ]
  },
  {
   "cell_type": "code",
   "execution_count": 27,
   "id": "d5677604-6bae-4677-9870-a942550122c8",
   "metadata": {},
   "outputs": [
    {
     "name": "stdout",
     "output_type": "stream",
     "text": [
      "\n",
      "Welcome to Blackjack!\n",
      "\n",
      "Your hand:\n",
      "Six of Spades\n",
      "Three of Spades\n"
     ]
    },
    {
     "ename": "ValueError",
     "evalue": "invalid literal for int() with base 10: 'Six'",
     "output_type": "error",
     "traceback": [
      "\u001b[0;31m---------------------------------------------------------------------------\u001b[0m",
      "\u001b[0;31mValueError\u001b[0m                                Traceback (most recent call last)",
      "Cell \u001b[0;32mIn[27], line 89\u001b[0m\n\u001b[1;32m     86\u001b[0m     \u001b[38;5;28mprint\u001b[39m(\u001b[38;5;124m\"\u001b[39m\u001b[38;5;130;01m\\n\u001b[39;00m\u001b[38;5;124mThank you for playing Blackjack!\u001b[39m\u001b[38;5;124m\"\u001b[39m)\n\u001b[1;32m     88\u001b[0m \u001b[38;5;28;01mif\u001b[39;00m \u001b[38;5;18m__name__\u001b[39m \u001b[38;5;241m==\u001b[39m \u001b[38;5;124m\"\u001b[39m\u001b[38;5;124m__main__\u001b[39m\u001b[38;5;124m\"\u001b[39m:\n\u001b[0;32m---> 89\u001b[0m     \u001b[43mmain\u001b[49m\u001b[43m(\u001b[49m\u001b[43m)\u001b[49m\n",
      "Cell \u001b[0;32mIn[27], line 45\u001b[0m, in \u001b[0;36mmain\u001b[0;34m()\u001b[0m\n\u001b[1;32m     43\u001b[0m \u001b[38;5;28mprint\u001b[39m(\u001b[38;5;124m\"\u001b[39m\u001b[38;5;130;01m\\n\u001b[39;00m\u001b[38;5;124mYour hand:\u001b[39m\u001b[38;5;124m\"\u001b[39m)\n\u001b[1;32m     44\u001b[0m display_hand(player_hand)\n\u001b[0;32m---> 45\u001b[0m \u001b[38;5;28mprint\u001b[39m(\u001b[38;5;124mf\u001b[39m\u001b[38;5;124m\"\u001b[39m\u001b[38;5;124mTotal value: \u001b[39m\u001b[38;5;132;01m{\u001b[39;00m\u001b[43mcalculate_hand_value\u001b[49m\u001b[43m(\u001b[49m\u001b[43mplayer_hand\u001b[49m\u001b[43m)\u001b[49m\u001b[38;5;132;01m}\u001b[39;00m\u001b[38;5;124m\"\u001b[39m)\n\u001b[1;32m     47\u001b[0m \u001b[38;5;28;01mwhile\u001b[39;00m \u001b[38;5;28;01mTrue\u001b[39;00m:\n\u001b[1;32m     48\u001b[0m     action \u001b[38;5;241m=\u001b[39m \u001b[38;5;28minput\u001b[39m(\u001b[38;5;124m\"\u001b[39m\u001b[38;5;130;01m\\n\u001b[39;00m\u001b[38;5;124mDo you want to \u001b[39m\u001b[38;5;124m'\u001b[39m\u001b[38;5;124mHit\u001b[39m\u001b[38;5;124m'\u001b[39m\u001b[38;5;124m or \u001b[39m\u001b[38;5;124m'\u001b[39m\u001b[38;5;124mStand\u001b[39m\u001b[38;5;124m'\u001b[39m\u001b[38;5;124m? \u001b[39m\u001b[38;5;124m\"\u001b[39m)\u001b[38;5;241m.\u001b[39mstrip()\u001b[38;5;241m.\u001b[39mlower()\n",
      "Cell \u001b[0;32mIn[27], line 22\u001b[0m, in \u001b[0;36mcalculate_hand_value\u001b[0;34m(hand)\u001b[0m\n\u001b[1;32m     20\u001b[0m         num_aces \u001b[38;5;241m+\u001b[39m\u001b[38;5;241m=\u001b[39m \u001b[38;5;241m1\u001b[39m\n\u001b[1;32m     21\u001b[0m     \u001b[38;5;28;01melse\u001b[39;00m:\n\u001b[0;32m---> 22\u001b[0m         value \u001b[38;5;241m+\u001b[39m\u001b[38;5;241m=\u001b[39m \u001b[38;5;28;43mint\u001b[39;49m\u001b[43m(\u001b[49m\u001b[43mrank\u001b[49m\u001b[43m)\u001b[49m\n\u001b[1;32m     24\u001b[0m \u001b[38;5;28;01mwhile\u001b[39;00m value \u001b[38;5;241m>\u001b[39m \u001b[38;5;241m21\u001b[39m \u001b[38;5;129;01mand\u001b[39;00m num_aces \u001b[38;5;241m>\u001b[39m \u001b[38;5;241m0\u001b[39m:\n\u001b[1;32m     25\u001b[0m     value \u001b[38;5;241m-\u001b[39m\u001b[38;5;241m=\u001b[39m \u001b[38;5;241m10\u001b[39m\n",
      "\u001b[0;31mValueError\u001b[0m: invalid literal for int() with base 10: 'Six'"
     ]
    }
   ],
   "source": [
    "import random\n",
    "\n",
    "# Initialize the deck\n",
    "suits = ['Hearts', 'Diamonds', 'Clubs', 'Spades']\n",
    "ranks = ['Two', 'Three', 'Four', 'Five', 'Six', 'Seven', 'Eight', 'Nine', 'Ten', 'Jack', 'Queen', 'King', 'Ace']\n",
    "\n",
    "def create_deck():\n",
    "    return [{'rank': rank, 'suit': suit} for rank in ranks for suit in suits]\n",
    "\n",
    "def calculate_hand_value(hand):\n",
    "    value = 0\n",
    "    num_aces = 0\n",
    "\n",
    "    for card in hand:\n",
    "        rank = card['rank']\n",
    "        if rank in ['King', 'Queen', 'Jack']:\n",
    "            value += 10\n",
    "        elif rank == 'Ace':\n",
    "            value += 11\n",
    "            num_aces += 1\n",
    "        else:\n",
    "            value += int(rank)\n",
    "\n",
    "    while value > 21 and num_aces > 0:\n",
    "        value -= 10\n",
    "        num_aces -= 1\n",
    "\n",
    "    return value\n",
    "\n",
    "def display_hand(hand):\n",
    "    for card in hand:\n",
    "        print(f\"{card['rank']} of {card['suit']}\")\n",
    "\n",
    "def main():\n",
    "    print(\"\\nWelcome to Blackjack!\")\n",
    "\n",
    "    while True:\n",
    "        deck = create_deck()\n",
    "        random.shuffle(deck)\n",
    "        player_hand = [deck.pop(), deck.pop()]\n",
    "        computer_hand = [deck.pop(), deck.pop()]\n",
    "\n",
    "        print(\"\\nYour hand:\")\n",
    "        display_hand(player_hand)\n",
    "        print(f\"Total value: {calculate_hand_value(player_hand)}\")\n",
    "\n",
    "        while True:\n",
    "            action = input(\"\\nDo you want to 'Hit' or 'Stand'? \").strip().lower()\n",
    "            if action == 'hit':\n",
    "                player_hand.append(deck.pop())\n",
    "                print(\"\\nYour hand:\")\n",
    "                display_hand(player_hand)\n",
    "                print(f\"Total value: {calculate_hand_value(player_hand)}\")\n",
    "                if calculate_hand_value(player_hand) > 21:\n",
    "                    print(\"Bust! You lose.\")\n",
    "                    break\n",
    "            elif action == 'stand':\n",
    "                while calculate_hand_value(computer_hand) < 17:\n",
    "                    computer_hand.append(deck.pop())\n",
    "                print(\"\\nComputer's hand:\")\n",
    "                display_hand(computer_hand)\n",
    "                print(f\"Total value: {calculate_hand_value(computer_hand)}\")\n",
    "\n",
    "                player_value = calculate_hand_value(player_hand)\n",
    "                computer_value = calculate_hand_value(computer_hand)\n",
    "\n",
    "                if player_value > 21:\n",
    "                    print(\"Bust! You lose.\")\n",
    "                elif computer_value > 21:\n",
    "                    print(\"Computer busts! You win.\")\n",
    "                elif player_value > computer_value:\n",
    "                    print(\"You win!\")\n",
    "                elif player_value < computer_value:\n",
    "                    print(\"You lose.\")\n",
    "                else:\n",
    "                    print(\"It's a tie!\")\n",
    "\n",
    "                break\n",
    "            else:\n",
    "                print(\"Invalid input. Please enter 'Hit' or 'Stand'.\")\n",
    "\n",
    "        play_again = input(\"\\nDo you want to play again? (yes/no): \").strip().lower()\n",
    "        if play_again != 'yes':\n",
    "            break\n",
    "\n",
    "    print(\"\\nThank you for playing Blackjack!\")\n",
    "\n",
    "if __name__ == \"__main__\":\n",
    "    main()\n"
   ]
  },
  {
   "cell_type": "markdown",
   "id": "02a353b3-9ddf-424a-8a67-af65de5ca5e1",
   "metadata": {},
   "source": [
    "### 40. Write a program that generates the prime factors of a given number using trial division."
   ]
  },
  {
   "cell_type": "code",
   "execution_count": 1,
   "id": "a37d5f19-0d5b-48b2-ad64-cf99cccc2359",
   "metadata": {},
   "outputs": [
    {
     "name": "stdin",
     "output_type": "stream",
     "text": [
      "Enter a number 36\n"
     ]
    },
    {
     "name": "stdout",
     "output_type": "stream",
     "text": [
      "Prime factors: [1, 36, 2, 4]\n",
      "Composite number\n"
     ]
    }
   ],
   "source": [
    "#Enter a number\n",
    "num=int(input(\"Enter a number\"))\n",
    "\n",
    "# Find prime factors\n",
    "def is_prime(n):\n",
    "    t=0\n",
    "    if (n%2==0):\n",
    "        t+=1\n",
    "    for j in range(3,n):\n",
    "        if (n%j==0):\n",
    "            t=0\n",
    "            break\n",
    "        else:\n",
    "            t+=1\n",
    "    return t\n",
    "\n",
    "lst=[1,num]\n",
    "for i in range(2,num):\n",
    "    if (num%i==0 and is_prime(i)!=0):\n",
    "        lst.append(i)\n",
    "        \n",
    "if (len(lst)>2):\n",
    "    print(\"Composite number\")\n",
    "else:\n",
    "    print(\"Prime number\")"
   ]
  },
  {
   "cell_type": "code",
   "execution_count": null,
   "id": "43b44ed0-1235-4fd3-8a74-1551f06da713",
   "metadata": {},
   "outputs": [],
   "source": []
  }
 ],
 "metadata": {
  "kernelspec": {
   "display_name": "Python 3 (ipykernel)",
   "language": "python",
   "name": "python3"
  },
  "language_info": {
   "codemirror_mode": {
    "name": "ipython",
    "version": 3
   },
   "file_extension": ".py",
   "mimetype": "text/x-python",
   "name": "python",
   "nbconvert_exporter": "python",
   "pygments_lexer": "ipython3",
   "version": "3.10.8"
  }
 },
 "nbformat": 4,
 "nbformat_minor": 5
}
